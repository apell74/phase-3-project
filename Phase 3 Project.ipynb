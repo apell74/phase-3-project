{
 "cells": [
  {
   "cell_type": "markdown",
   "id": "46a8c074",
   "metadata": {},
   "source": [
    "## Final Project Submission"
   ]
  },
  {
   "cell_type": "markdown",
   "id": "c5f15469",
   "metadata": {},
   "source": [
    "- Student Name: Adam Pell\n",
    "- Student Pace: Self-Paced\n",
    "- Scheduled project review date/time\n",
    "- Instructor Name: Morgan jones\n",
    "- Blog Post URL: "
   ]
  },
  {
   "cell_type": "markdown",
   "id": "5e577895",
   "metadata": {},
   "source": [
    "# Telecommunications Customer Behavior Analysis"
   ]
  },
  {
   "cell_type": "markdown",
   "id": "fc85a322",
   "metadata": {},
   "source": [
    "# Overview"
   ]
  },
  {
   "cell_type": "markdown",
   "id": "d4d6aee1",
   "metadata": {},
   "source": [
    "This project will use different classifiers to analyze and predict customer churn for a telecommunications company.\n",
    "\n",
    "Iterative analysis of multiple features creates a better understanding of which factors contribute to a customer switching providers. My firm, Pell & Associates Data Solutions, has developed a classifier model that is capable of predicting with up to 93% accuracy whether a customer will switch providers or not. Being able to accurately forecast churn and knowing its key predictors is vital for any telecommunications business, as it allows them to stay ahead of customer needs and expand their services with a clear perspective on risk."
   ]
  },
  {
   "cell_type": "markdown",
   "id": "f3ea31e4",
   "metadata": {},
   "source": [
    "# Business Problem"
   ]
  },
  {
   "cell_type": "markdown",
   "id": "da776954",
   "metadata": {},
   "source": [
    "Telecommunications companies provide some of the most valuable services in the world to their customers allowing people to communicate across states, borders, and continents. The market is valued at over 1.7 trillion dollars globally. Telecoms companies are in a unique position because, to the average consumer, the level of service between most of these companies is identical. Moreover, there is an abundance of choice; many reputable companies exist in most countries. Since most people cannot go without a service provider, they may be more likely to switch to another provider if they perceive a problem with their current one. For service providers in America and abroad, it is important to foresee the risk of customers switching providers, as unexpected departures can lead to a drop in revenues and a lack of clarity regarding how to stem the tide.\n",
    "\n",
    "Pell & Associates Data Solutions is here to help provide that clarity. This project will examine over 3300 customer records from across America, modeling trends and building predictive classifiers that are able to accurately assess whether future customers are at risk of leaving."
   ]
  },
  {
   "cell_type": "markdown",
   "id": "838dd2af",
   "metadata": {},
   "source": [
    "# Data Understanding"
   ]
  },
  {
   "cell_type": "markdown",
   "id": "8a1a405a",
   "metadata": {},
   "source": [
    "The available data comes from a telecom compoany's record of customer information. Our target for this analysis will be the \"churn\" column. In this case, churn is a metric that reports whether a customer switched providers or not. For this project, the \"negative case\" will be 0, indicating that the customer did not \"churn\", or switch. The positive case will be 1, meaning that the customer did switch. My analysis will examine features that are likely to play a role in customer churn. They include:\n",
    "\n",
    "- State\n",
    "- Account Length (in months)\n",
    "- Area Code\n",
    "- International Plan (y/n)\n",
    "- Voice Mail Plan (y/n)\n",
    "- No. of Voicemail Messages\n",
    "- Total Day Minutes, Calls, and Charges\n",
    "- Total Evening Minutes, Calls, and Charges\n",
    "- Total Night Minutes, Calls, and Charges\n",
    "- Total International Minutes, Calls, and Charges\n",
    "- No. of Customer Service Calls\n",
    "\n",
    "I have included the above features because they all stand to have a connection to customer churn. I have excluded features such as \"phone number\" because that is unlikely to have any correlation to a customer's decision to switch providers.\n",
    "\n",
    "### Limitations\n",
    "\n",
    "The dataset I am working with is relatively small, only containing 3333 rows of information. There is also no description of the dataset included from the source, so the data lacks context such as when these records are from.\n",
    "\n",
    "These limitations may make it more difficult for my model to generalize to updated or more modern data."
   ]
  },
  {
   "cell_type": "markdown",
   "id": "d5c9cb61",
   "metadata": {},
   "source": [
    "# Data Analysis"
   ]
  },
  {
   "cell_type": "markdown",
   "id": "de9fe9dd",
   "metadata": {},
   "source": [
    "## Preparation and EDA"
   ]
  },
  {
   "cell_type": "markdown",
   "id": "e9b4a5ff",
   "metadata": {},
   "source": [
    "Before we begin the iterative modeling process, we need to take a look at the data to better understand its structure features. We will check for outliers, visualize our target and some correlations, and build some pipelines to speed up preprocessing down the line."
   ]
  },
  {
   "cell_type": "code",
   "execution_count": 1,
   "id": "823300d0",
   "metadata": {},
   "outputs": [],
   "source": [
    "# Importing relevant libraries\n",
    "import pandas as pd\n",
    "import numpy as np\n",
    "import os\n",
    "import seaborn as sns\n",
    "%matplotlib inline\n",
    "import matplotlib.pyplot as plt\n",
    "from sklearn.model_selection import train_test_split, GridSearchCV, \\\n",
    "cross_val_score\n",
    "from sklearn.linear_model import LogisticRegression\n",
    "from sklearn.neighbors import KNeighborsClassifier\n",
    "from sklearn.tree import DecisionTreeClassifier\n",
    "from sklearn.ensemble import RandomForestClassifier, VotingClassifier, \\\n",
    "StackingClassifier\n",
    "from sklearn.metrics import accuracy_score, precision_score, recall_score, \\\n",
    "f1_score, plot_confusion_matrix, confusion_matrix, classification_report, \\\n",
    "ConfusionMatrixDisplay\n",
    "from sklearn.metrics import roc_auc_score, roc_curve, auc\n",
    "from sklearn.impute import SimpleImputer\n",
    "from sklearn.preprocessing import StandardScaler, OneHotEncoder, FunctionTransformer\n",
    "from sklearn.pipeline import Pipeline\n",
    "from sklearn.compose import ColumnTransformer\n",
    "from sklearn.compose import make_column_selector\n",
    "from imblearn.over_sampling import SMOTE\n",
    "from imblearn.pipeline import Pipeline as ImPipeline"
   ]
  },
  {
   "cell_type": "code",
   "execution_count": 2,
   "id": "a40d0fe3",
   "metadata": {},
   "outputs": [
    {
     "data": {
      "text/html": [
       "<div>\n",
       "<style scoped>\n",
       "    .dataframe tbody tr th:only-of-type {\n",
       "        vertical-align: middle;\n",
       "    }\n",
       "\n",
       "    .dataframe tbody tr th {\n",
       "        vertical-align: top;\n",
       "    }\n",
       "\n",
       "    .dataframe thead th {\n",
       "        text-align: right;\n",
       "    }\n",
       "</style>\n",
       "<table border=\"1\" class=\"dataframe\">\n",
       "  <thead>\n",
       "    <tr style=\"text-align: right;\">\n",
       "      <th></th>\n",
       "      <th>state</th>\n",
       "      <th>account length</th>\n",
       "      <th>area code</th>\n",
       "      <th>phone number</th>\n",
       "      <th>international plan</th>\n",
       "      <th>voice mail plan</th>\n",
       "      <th>number vmail messages</th>\n",
       "      <th>total day minutes</th>\n",
       "      <th>total day calls</th>\n",
       "      <th>total day charge</th>\n",
       "      <th>...</th>\n",
       "      <th>total eve calls</th>\n",
       "      <th>total eve charge</th>\n",
       "      <th>total night minutes</th>\n",
       "      <th>total night calls</th>\n",
       "      <th>total night charge</th>\n",
       "      <th>total intl minutes</th>\n",
       "      <th>total intl calls</th>\n",
       "      <th>total intl charge</th>\n",
       "      <th>customer service calls</th>\n",
       "      <th>churn</th>\n",
       "    </tr>\n",
       "  </thead>\n",
       "  <tbody>\n",
       "    <tr>\n",
       "      <th>0</th>\n",
       "      <td>KS</td>\n",
       "      <td>128</td>\n",
       "      <td>415</td>\n",
       "      <td>382-4657</td>\n",
       "      <td>no</td>\n",
       "      <td>yes</td>\n",
       "      <td>25</td>\n",
       "      <td>265.1</td>\n",
       "      <td>110</td>\n",
       "      <td>45.07</td>\n",
       "      <td>...</td>\n",
       "      <td>99</td>\n",
       "      <td>16.78</td>\n",
       "      <td>244.7</td>\n",
       "      <td>91</td>\n",
       "      <td>11.01</td>\n",
       "      <td>10.0</td>\n",
       "      <td>3</td>\n",
       "      <td>2.70</td>\n",
       "      <td>1</td>\n",
       "      <td>False</td>\n",
       "    </tr>\n",
       "    <tr>\n",
       "      <th>1</th>\n",
       "      <td>OH</td>\n",
       "      <td>107</td>\n",
       "      <td>415</td>\n",
       "      <td>371-7191</td>\n",
       "      <td>no</td>\n",
       "      <td>yes</td>\n",
       "      <td>26</td>\n",
       "      <td>161.6</td>\n",
       "      <td>123</td>\n",
       "      <td>27.47</td>\n",
       "      <td>...</td>\n",
       "      <td>103</td>\n",
       "      <td>16.62</td>\n",
       "      <td>254.4</td>\n",
       "      <td>103</td>\n",
       "      <td>11.45</td>\n",
       "      <td>13.7</td>\n",
       "      <td>3</td>\n",
       "      <td>3.70</td>\n",
       "      <td>1</td>\n",
       "      <td>False</td>\n",
       "    </tr>\n",
       "    <tr>\n",
       "      <th>2</th>\n",
       "      <td>NJ</td>\n",
       "      <td>137</td>\n",
       "      <td>415</td>\n",
       "      <td>358-1921</td>\n",
       "      <td>no</td>\n",
       "      <td>no</td>\n",
       "      <td>0</td>\n",
       "      <td>243.4</td>\n",
       "      <td>114</td>\n",
       "      <td>41.38</td>\n",
       "      <td>...</td>\n",
       "      <td>110</td>\n",
       "      <td>10.30</td>\n",
       "      <td>162.6</td>\n",
       "      <td>104</td>\n",
       "      <td>7.32</td>\n",
       "      <td>12.2</td>\n",
       "      <td>5</td>\n",
       "      <td>3.29</td>\n",
       "      <td>0</td>\n",
       "      <td>False</td>\n",
       "    </tr>\n",
       "    <tr>\n",
       "      <th>3</th>\n",
       "      <td>OH</td>\n",
       "      <td>84</td>\n",
       "      <td>408</td>\n",
       "      <td>375-9999</td>\n",
       "      <td>yes</td>\n",
       "      <td>no</td>\n",
       "      <td>0</td>\n",
       "      <td>299.4</td>\n",
       "      <td>71</td>\n",
       "      <td>50.90</td>\n",
       "      <td>...</td>\n",
       "      <td>88</td>\n",
       "      <td>5.26</td>\n",
       "      <td>196.9</td>\n",
       "      <td>89</td>\n",
       "      <td>8.86</td>\n",
       "      <td>6.6</td>\n",
       "      <td>7</td>\n",
       "      <td>1.78</td>\n",
       "      <td>2</td>\n",
       "      <td>False</td>\n",
       "    </tr>\n",
       "    <tr>\n",
       "      <th>4</th>\n",
       "      <td>OK</td>\n",
       "      <td>75</td>\n",
       "      <td>415</td>\n",
       "      <td>330-6626</td>\n",
       "      <td>yes</td>\n",
       "      <td>no</td>\n",
       "      <td>0</td>\n",
       "      <td>166.7</td>\n",
       "      <td>113</td>\n",
       "      <td>28.34</td>\n",
       "      <td>...</td>\n",
       "      <td>122</td>\n",
       "      <td>12.61</td>\n",
       "      <td>186.9</td>\n",
       "      <td>121</td>\n",
       "      <td>8.41</td>\n",
       "      <td>10.1</td>\n",
       "      <td>3</td>\n",
       "      <td>2.73</td>\n",
       "      <td>3</td>\n",
       "      <td>False</td>\n",
       "    </tr>\n",
       "  </tbody>\n",
       "</table>\n",
       "<p>5 rows × 21 columns</p>\n",
       "</div>"
      ],
      "text/plain": [
       "  state  account length  area code phone number international plan  \\\n",
       "0    KS             128        415     382-4657                 no   \n",
       "1    OH             107        415     371-7191                 no   \n",
       "2    NJ             137        415     358-1921                 no   \n",
       "3    OH              84        408     375-9999                yes   \n",
       "4    OK              75        415     330-6626                yes   \n",
       "\n",
       "  voice mail plan  number vmail messages  total day minutes  total day calls  \\\n",
       "0             yes                     25              265.1              110   \n",
       "1             yes                     26              161.6              123   \n",
       "2              no                      0              243.4              114   \n",
       "3              no                      0              299.4               71   \n",
       "4              no                      0              166.7              113   \n",
       "\n",
       "   total day charge  ...  total eve calls  total eve charge  \\\n",
       "0             45.07  ...               99             16.78   \n",
       "1             27.47  ...              103             16.62   \n",
       "2             41.38  ...              110             10.30   \n",
       "3             50.90  ...               88              5.26   \n",
       "4             28.34  ...              122             12.61   \n",
       "\n",
       "   total night minutes  total night calls  total night charge  \\\n",
       "0                244.7                 91               11.01   \n",
       "1                254.4                103               11.45   \n",
       "2                162.6                104                7.32   \n",
       "3                196.9                 89                8.86   \n",
       "4                186.9                121                8.41   \n",
       "\n",
       "   total intl minutes  total intl calls  total intl charge  \\\n",
       "0                10.0                 3               2.70   \n",
       "1                13.7                 3               3.70   \n",
       "2                12.2                 5               3.29   \n",
       "3                 6.6                 7               1.78   \n",
       "4                10.1                 3               2.73   \n",
       "\n",
       "   customer service calls  churn  \n",
       "0                       1  False  \n",
       "1                       1  False  \n",
       "2                       0  False  \n",
       "3                       2  False  \n",
       "4                       3  False  \n",
       "\n",
       "[5 rows x 21 columns]"
      ]
     },
     "execution_count": 2,
     "metadata": {},
     "output_type": "execute_result"
    }
   ],
   "source": [
    "# Loading dataset\n",
    "df = pd.read_csv('data/customer_churn_data.csv')\n",
    "\n",
    "# Priting first 5 rows\n",
    "df.head()"
   ]
  },
  {
   "cell_type": "markdown",
   "id": "250adb28",
   "metadata": {},
   "source": [
    "All our data is nicely laid out for us. Right off the bat, I notice that our target column is currently categorical, so we will want to transform that into binary down the line. There is also definitely a large majority of numeric columns, with only a single truly categorical one (state).\n",
    "\n",
    "The next step is to check for missing values, which I can do below:"
   ]
  },
  {
   "cell_type": "code",
   "execution_count": 3,
   "id": "827d0f61",
   "metadata": {},
   "outputs": [
    {
     "name": "stdout",
     "output_type": "stream",
     "text": [
      "<class 'pandas.core.frame.DataFrame'>\n",
      "RangeIndex: 3333 entries, 0 to 3332\n",
      "Data columns (total 21 columns):\n",
      " #   Column                  Non-Null Count  Dtype  \n",
      "---  ------                  --------------  -----  \n",
      " 0   state                   3333 non-null   object \n",
      " 1   account length          3333 non-null   int64  \n",
      " 2   area code               3333 non-null   int64  \n",
      " 3   phone number            3333 non-null   object \n",
      " 4   international plan      3333 non-null   object \n",
      " 5   voice mail plan         3333 non-null   object \n",
      " 6   number vmail messages   3333 non-null   int64  \n",
      " 7   total day minutes       3333 non-null   float64\n",
      " 8   total day calls         3333 non-null   int64  \n",
      " 9   total day charge        3333 non-null   float64\n",
      " 10  total eve minutes       3333 non-null   float64\n",
      " 11  total eve calls         3333 non-null   int64  \n",
      " 12  total eve charge        3333 non-null   float64\n",
      " 13  total night minutes     3333 non-null   float64\n",
      " 14  total night calls       3333 non-null   int64  \n",
      " 15  total night charge      3333 non-null   float64\n",
      " 16  total intl minutes      3333 non-null   float64\n",
      " 17  total intl calls        3333 non-null   int64  \n",
      " 18  total intl charge       3333 non-null   float64\n",
      " 19  customer service calls  3333 non-null   int64  \n",
      " 20  churn                   3333 non-null   bool   \n",
      "dtypes: bool(1), float64(8), int64(8), object(4)\n",
      "memory usage: 524.2+ KB\n"
     ]
    }
   ],
   "source": [
    "# Printing dataframe information\n",
    "df.info()"
   ]
  },
  {
   "cell_type": "markdown",
   "id": "0bd39517",
   "metadata": {},
   "source": [
    "No missing values! That's a plus. For preprocessing, we'll need to know which columns are numeric and which are categorical. For the categorica columns, we need to take a look and see what we're going to do with them.\n",
    "\n",
    "It also appears that our target column (\"churn\") is a categorical boolean. We can change this to 1s and 0s by casting the whole column as an integer.\n",
    "\n",
    "Customer phone numbers won't be too useful in this case, so we can drop that column. For two other categorical features (international plan and voice mail plan), we can also make those binary choices into 1s and 0s. That way, we don't have to bother one-hot encoding them later."
   ]
  },
  {
   "cell_type": "code",
   "execution_count": 4,
   "id": "43c3f583",
   "metadata": {},
   "outputs": [],
   "source": [
    "# Casting churn as an integer\n",
    "df['churn'] = df['churn'].astype(int)"
   ]
  },
  {
   "cell_type": "code",
   "execution_count": 5,
   "id": "569bb112",
   "metadata": {},
   "outputs": [],
   "source": [
    "# Dropping phone number column\n",
    "df = df.drop('phone number', axis=1)"
   ]
  },
  {
   "cell_type": "code",
   "execution_count": 6,
   "id": "78afbe7b",
   "metadata": {},
   "outputs": [],
   "source": [
    "# Replacing two string columns with integers\n",
    "df[['international plan', 'voice mail plan']] = df[['international plan', 'voice mail plan']].replace(\n",
    "    {'yes': 1, \"no\": 0})"
   ]
  },
  {
   "cell_type": "markdown",
   "id": "232f8143",
   "metadata": {},
   "source": [
    "Now that we've better organized our data, we can check out some correlation values."
   ]
  },
  {
   "cell_type": "code",
   "execution_count": 7,
   "id": "2bb7adcf",
   "metadata": {},
   "outputs": [
    {
     "data": {
      "text/plain": [
       "<AxesSubplot:>"
      ]
     },
     "execution_count": 7,
     "metadata": {},
     "output_type": "execute_result"
    },
    {
     "data": {
      "image/png": "[encoded data removed]",
      "text/plain": [
       "<Figure size 640x480 with 2 Axes>"
      ]
     },
     "metadata": {},
     "output_type": "display_data"
    }
   ],
   "source": [
    "# Creating correlation heatmap\n",
    "df_corrs = df.corr()\n",
    "sns.heatmap(df_corrs, cmap='coolwarm')"
   ]
  },
  {
   "cell_type": "markdown",
   "id": "c4c7b0b8",
   "metadata": {},
   "source": [
    "This seems like a fairly normal correlation chart. We see that red diagonal streak, which is caused by identical variables correlating perfectly with each other. The red squares surrounding the streak is likely caused by strong correlations between calls, minutes, and charge for each time of day.\n",
    "\n",
    "On the bottom row, you can see that certain features have slightly higher correlations with churn. The two that stand out to me are customer service calls and having an international plan. More customer service calls would make sense because those normally are a product of customer dissatisfaction. Having an international plan might lead to higher charges or more headache, so that could be another common cause for churn. We can take a closer look at the numerical value of these correlations below:"
   ]
  },
  {
   "cell_type": "code",
   "execution_count": 8,
   "id": "8a4c51bb",
   "metadata": {},
   "outputs": [
    {
     "data": {
      "text/plain": [
       "churn                     1.000000\n",
       "international plan        0.259852\n",
       "customer service calls    0.208750\n",
       "total day minutes         0.205151\n",
       "total day charge          0.205151\n",
       "total eve minutes         0.092796\n",
       "total eve charge          0.092786\n",
       "total intl charge         0.068259\n",
       "total intl minutes        0.068239\n",
       "total night charge        0.035496\n",
       "total night minutes       0.035493\n",
       "total day calls           0.018459\n",
       "account length            0.016541\n",
       "total eve calls           0.009233\n",
       "area code                 0.006174\n",
       "total night calls         0.006141\n",
       "total intl calls         -0.052844\n",
       "number vmail messages    -0.089728\n",
       "voice mail plan          -0.102148\n",
       "dtype: float64"
      ]
     },
     "execution_count": 8,
     "metadata": {},
     "output_type": "execute_result"
    }
   ],
   "source": [
    "# Dropping categorical data\n",
    "numeric_cols = df.drop('state', axis=1)\n",
    "numeric_cols.corrwith(df['churn']).sort_values(ascending=False)"
   ]
  },
  {
   "cell_type": "markdown",
   "id": "853fce2c",
   "metadata": {},
   "source": [
    "Indeed, an international plan and customer service calls are the two largest indicators of churn. Total day minutes and the associated charges are also correlated, indicating that perhaps some customers are switching providers for better value on their day minutes.\n",
    "\n",
    "We can take a look at some key statistics for the entire dataset below:"
   ]
  },
  {
   "cell_type": "code",
   "execution_count": 9,
   "id": "a7bc3552",
   "metadata": {},
   "outputs": [
    {
     "data": {
      "text/html": [
       "<div>\n",
       "<style scoped>\n",
       "    .dataframe tbody tr th:only-of-type {\n",
       "        vertical-align: middle;\n",
       "    }\n",
       "\n",
       "    .dataframe tbody tr th {\n",
       "        vertical-align: top;\n",
       "    }\n",
       "\n",
       "    .dataframe thead th {\n",
       "        text-align: right;\n",
       "    }\n",
       "</style>\n",
       "<table border=\"1\" class=\"dataframe\">\n",
       "  <thead>\n",
       "    <tr style=\"text-align: right;\">\n",
       "      <th></th>\n",
       "      <th>account length</th>\n",
       "      <th>area code</th>\n",
       "      <th>international plan</th>\n",
       "      <th>voice mail plan</th>\n",
       "      <th>number vmail messages</th>\n",
       "      <th>total day minutes</th>\n",
       "      <th>total day calls</th>\n",
       "      <th>total day charge</th>\n",
       "      <th>total eve minutes</th>\n",
       "      <th>total eve calls</th>\n",
       "      <th>total eve charge</th>\n",
       "      <th>total night minutes</th>\n",
       "      <th>total night calls</th>\n",
       "      <th>total night charge</th>\n",
       "      <th>total intl minutes</th>\n",
       "      <th>total intl calls</th>\n",
       "      <th>total intl charge</th>\n",
       "      <th>customer service calls</th>\n",
       "      <th>churn</th>\n",
       "    </tr>\n",
       "  </thead>\n",
       "  <tbody>\n",
       "    <tr>\n",
       "      <th>count</th>\n",
       "      <td>3333.000000</td>\n",
       "      <td>3333.000000</td>\n",
       "      <td>3333.000000</td>\n",
       "      <td>3333.000000</td>\n",
       "      <td>3333.000000</td>\n",
       "      <td>3333.000000</td>\n",
       "      <td>3333.000000</td>\n",
       "      <td>3333.000000</td>\n",
       "      <td>3333.000000</td>\n",
       "      <td>3333.000000</td>\n",
       "      <td>3333.000000</td>\n",
       "      <td>3333.000000</td>\n",
       "      <td>3333.000000</td>\n",
       "      <td>3333.000000</td>\n",
       "      <td>3333.000000</td>\n",
       "      <td>3333.000000</td>\n",
       "      <td>3333.000000</td>\n",
       "      <td>3333.000000</td>\n",
       "      <td>3333.000000</td>\n",
       "    </tr>\n",
       "    <tr>\n",
       "      <th>mean</th>\n",
       "      <td>101.064806</td>\n",
       "      <td>437.182418</td>\n",
       "      <td>0.096910</td>\n",
       "      <td>0.276628</td>\n",
       "      <td>8.099010</td>\n",
       "      <td>179.775098</td>\n",
       "      <td>100.435644</td>\n",
       "      <td>30.562307</td>\n",
       "      <td>200.980348</td>\n",
       "      <td>100.114311</td>\n",
       "      <td>17.083540</td>\n",
       "      <td>200.872037</td>\n",
       "      <td>100.107711</td>\n",
       "      <td>9.039325</td>\n",
       "      <td>10.237294</td>\n",
       "      <td>4.479448</td>\n",
       "      <td>2.764581</td>\n",
       "      <td>1.562856</td>\n",
       "      <td>0.144914</td>\n",
       "    </tr>\n",
       "    <tr>\n",
       "      <th>std</th>\n",
       "      <td>39.822106</td>\n",
       "      <td>42.371290</td>\n",
       "      <td>0.295879</td>\n",
       "      <td>0.447398</td>\n",
       "      <td>13.688365</td>\n",
       "      <td>54.467389</td>\n",
       "      <td>20.069084</td>\n",
       "      <td>9.259435</td>\n",
       "      <td>50.713844</td>\n",
       "      <td>19.922625</td>\n",
       "      <td>4.310668</td>\n",
       "      <td>50.573847</td>\n",
       "      <td>19.568609</td>\n",
       "      <td>2.275873</td>\n",
       "      <td>2.791840</td>\n",
       "      <td>2.461214</td>\n",
       "      <td>0.753773</td>\n",
       "      <td>1.315491</td>\n",
       "      <td>0.352067</td>\n",
       "    </tr>\n",
       "    <tr>\n",
       "      <th>min</th>\n",
       "      <td>1.000000</td>\n",
       "      <td>408.000000</td>\n",
       "      <td>0.000000</td>\n",
       "      <td>0.000000</td>\n",
       "      <td>0.000000</td>\n",
       "      <td>0.000000</td>\n",
       "      <td>0.000000</td>\n",
       "      <td>0.000000</td>\n",
       "      <td>0.000000</td>\n",
       "      <td>0.000000</td>\n",
       "      <td>0.000000</td>\n",
       "      <td>23.200000</td>\n",
       "      <td>33.000000</td>\n",
       "      <td>1.040000</td>\n",
       "      <td>0.000000</td>\n",
       "      <td>0.000000</td>\n",
       "      <td>0.000000</td>\n",
       "      <td>0.000000</td>\n",
       "      <td>0.000000</td>\n",
       "    </tr>\n",
       "    <tr>\n",
       "      <th>25%</th>\n",
       "      <td>74.000000</td>\n",
       "      <td>408.000000</td>\n",
       "      <td>0.000000</td>\n",
       "      <td>0.000000</td>\n",
       "      <td>0.000000</td>\n",
       "      <td>143.700000</td>\n",
       "      <td>87.000000</td>\n",
       "      <td>24.430000</td>\n",
       "      <td>166.600000</td>\n",
       "      <td>87.000000</td>\n",
       "      <td>14.160000</td>\n",
       "      <td>167.000000</td>\n",
       "      <td>87.000000</td>\n",
       "      <td>7.520000</td>\n",
       "      <td>8.500000</td>\n",
       "      <td>3.000000</td>\n",
       "      <td>2.300000</td>\n",
       "      <td>1.000000</td>\n",
       "      <td>0.000000</td>\n",
       "    </tr>\n",
       "    <tr>\n",
       "      <th>50%</th>\n",
       "      <td>101.000000</td>\n",
       "      <td>415.000000</td>\n",
       "      <td>0.000000</td>\n",
       "      <td>0.000000</td>\n",
       "      <td>0.000000</td>\n",
       "      <td>179.400000</td>\n",
       "      <td>101.000000</td>\n",
       "      <td>30.500000</td>\n",
       "      <td>201.400000</td>\n",
       "      <td>100.000000</td>\n",
       "      <td>17.120000</td>\n",
       "      <td>201.200000</td>\n",
       "      <td>100.000000</td>\n",
       "      <td>9.050000</td>\n",
       "      <td>10.300000</td>\n",
       "      <td>4.000000</td>\n",
       "      <td>2.780000</td>\n",
       "      <td>1.000000</td>\n",
       "      <td>0.000000</td>\n",
       "    </tr>\n",
       "    <tr>\n",
       "      <th>75%</th>\n",
       "      <td>127.000000</td>\n",
       "      <td>510.000000</td>\n",
       "      <td>0.000000</td>\n",
       "      <td>1.000000</td>\n",
       "      <td>20.000000</td>\n",
       "      <td>216.400000</td>\n",
       "      <td>114.000000</td>\n",
       "      <td>36.790000</td>\n",
       "      <td>235.300000</td>\n",
       "      <td>114.000000</td>\n",
       "      <td>20.000000</td>\n",
       "      <td>235.300000</td>\n",
       "      <td>113.000000</td>\n",
       "      <td>10.590000</td>\n",
       "      <td>12.100000</td>\n",
       "      <td>6.000000</td>\n",
       "      <td>3.270000</td>\n",
       "      <td>2.000000</td>\n",
       "      <td>0.000000</td>\n",
       "    </tr>\n",
       "    <tr>\n",
       "      <th>max</th>\n",
       "      <td>243.000000</td>\n",
       "      <td>510.000000</td>\n",
       "      <td>1.000000</td>\n",
       "      <td>1.000000</td>\n",
       "      <td>51.000000</td>\n",
       "      <td>350.800000</td>\n",
       "      <td>165.000000</td>\n",
       "      <td>59.640000</td>\n",
       "      <td>363.700000</td>\n",
       "      <td>170.000000</td>\n",
       "      <td>30.910000</td>\n",
       "      <td>395.000000</td>\n",
       "      <td>175.000000</td>\n",
       "      <td>17.770000</td>\n",
       "      <td>20.000000</td>\n",
       "      <td>20.000000</td>\n",
       "      <td>5.400000</td>\n",
       "      <td>9.000000</td>\n",
       "      <td>1.000000</td>\n",
       "    </tr>\n",
       "  </tbody>\n",
       "</table>\n",
       "</div>"
      ],
      "text/plain": [
       "       account length    area code  international plan  voice mail plan  \\\n",
       "count     3333.000000  3333.000000         3333.000000      3333.000000   \n",
       "mean       101.064806   437.182418            0.096910         0.276628   \n",
       "std         39.822106    42.371290            0.295879         0.447398   \n",
       "min          1.000000   408.000000            0.000000         0.000000   \n",
       "25%         74.000000   408.000000            0.000000         0.000000   \n",
       "50%        101.000000   415.000000            0.000000         0.000000   \n",
       "75%        127.000000   510.000000            0.000000         1.000000   \n",
       "max        243.000000   510.000000            1.000000         1.000000   \n",
       "\n",
       "       number vmail messages  total day minutes  total day calls  \\\n",
       "count            3333.000000        3333.000000      3333.000000   \n",
       "mean                8.099010         179.775098       100.435644   \n",
       "std                13.688365          54.467389        20.069084   \n",
       "min                 0.000000           0.000000         0.000000   \n",
       "25%                 0.000000         143.700000        87.000000   \n",
       "50%                 0.000000         179.400000       101.000000   \n",
       "75%                20.000000         216.400000       114.000000   \n",
       "max                51.000000         350.800000       165.000000   \n",
       "\n",
       "       total day charge  total eve minutes  total eve calls  total eve charge  \\\n",
       "count       3333.000000        3333.000000      3333.000000       3333.000000   \n",
       "mean          30.562307         200.980348       100.114311         17.083540   \n",
       "std            9.259435          50.713844        19.922625          4.310668   \n",
       "min            0.000000           0.000000         0.000000          0.000000   \n",
       "25%           24.430000         166.600000        87.000000         14.160000   \n",
       "50%           30.500000         201.400000       100.000000         17.120000   \n",
       "75%           36.790000         235.300000       114.000000         20.000000   \n",
       "max           59.640000         363.700000       170.000000         30.910000   \n",
       "\n",
       "       total night minutes  total night calls  total night charge  \\\n",
       "count          3333.000000        3333.000000         3333.000000   \n",
       "mean            200.872037         100.107711            9.039325   \n",
       "std              50.573847          19.568609            2.275873   \n",
       "min              23.200000          33.000000            1.040000   \n",
       "25%             167.000000          87.000000            7.520000   \n",
       "50%             201.200000         100.000000            9.050000   \n",
       "75%             235.300000         113.000000           10.590000   \n",
       "max             395.000000         175.000000           17.770000   \n",
       "\n",
       "       total intl minutes  total intl calls  total intl charge  \\\n",
       "count         3333.000000       3333.000000        3333.000000   \n",
       "mean            10.237294          4.479448           2.764581   \n",
       "std              2.791840          2.461214           0.753773   \n",
       "min              0.000000          0.000000           0.000000   \n",
       "25%              8.500000          3.000000           2.300000   \n",
       "50%             10.300000          4.000000           2.780000   \n",
       "75%             12.100000          6.000000           3.270000   \n",
       "max             20.000000         20.000000           5.400000   \n",
       "\n",
       "       customer service calls        churn  \n",
       "count             3333.000000  3333.000000  \n",
       "mean                 1.562856     0.144914  \n",
       "std                  1.315491     0.352067  \n",
       "min                  0.000000     0.000000  \n",
       "25%                  1.000000     0.000000  \n",
       "50%                  1.000000     0.000000  \n",
       "75%                  2.000000     0.000000  \n",
       "max                  9.000000     1.000000  "
      ]
     },
     "execution_count": 9,
     "metadata": {},
     "output_type": "execute_result"
    }
   ],
   "source": [
    "# Getting key metrics for dataset\n",
    "df.describe()"
   ]
  },
  {
   "cell_type": "markdown",
   "id": "96524054",
   "metadata": {},
   "source": [
    "We can see that the average customer has been using this company as their provider for 101 months, which is just under eight and a half years. Of these customers, about 10% have an international plan. The average customer also makes about 1.5 customer service calls."
   ]
  },
  {
   "cell_type": "markdown",
   "id": "c7ef5fcd",
   "metadata": {},
   "source": [
    "We can better see each state's churn rate by creating a map. "
   ]
  },
  {
   "cell_type": "code",
   "execution_count": 10,
   "id": "219469e6",
   "metadata": {},
   "outputs": [
    {
     "data": {
      "text/html": [
       "<div>\n",
       "<style scoped>\n",
       "    .dataframe tbody tr th:only-of-type {\n",
       "        vertical-align: middle;\n",
       "    }\n",
       "\n",
       "    .dataframe tbody tr th {\n",
       "        vertical-align: top;\n",
       "    }\n",
       "\n",
       "    .dataframe thead th {\n",
       "        text-align: right;\n",
       "    }\n",
       "</style>\n",
       "<table border=\"1\" class=\"dataframe\">\n",
       "  <thead>\n",
       "    <tr style=\"text-align: right;\">\n",
       "      <th></th>\n",
       "      <th>State</th>\n",
       "      <th>Churn Rate</th>\n",
       "    </tr>\n",
       "  </thead>\n",
       "  <tbody>\n",
       "    <tr>\n",
       "      <th>31</th>\n",
       "      <td>NJ</td>\n",
       "      <td>26.470588</td>\n",
       "    </tr>\n",
       "    <tr>\n",
       "      <th>4</th>\n",
       "      <td>CA</td>\n",
       "      <td>26.470588</td>\n",
       "    </tr>\n",
       "    <tr>\n",
       "      <th>43</th>\n",
       "      <td>TX</td>\n",
       "      <td>25.000000</td>\n",
       "    </tr>\n",
       "    <tr>\n",
       "      <th>20</th>\n",
       "      <td>MD</td>\n",
       "      <td>24.285714</td>\n",
       "    </tr>\n",
       "    <tr>\n",
       "      <th>40</th>\n",
       "      <td>SC</td>\n",
       "      <td>23.333333</td>\n",
       "    </tr>\n",
       "    <tr>\n",
       "      <th>22</th>\n",
       "      <td>MI</td>\n",
       "      <td>21.917808</td>\n",
       "    </tr>\n",
       "    <tr>\n",
       "      <th>25</th>\n",
       "      <td>MS</td>\n",
       "      <td>21.538462</td>\n",
       "    </tr>\n",
       "    <tr>\n",
       "      <th>33</th>\n",
       "      <td>NV</td>\n",
       "      <td>21.212121</td>\n",
       "    </tr>\n",
       "    <tr>\n",
       "      <th>47</th>\n",
       "      <td>WA</td>\n",
       "      <td>21.212121</td>\n",
       "    </tr>\n",
       "    <tr>\n",
       "      <th>21</th>\n",
       "      <td>ME</td>\n",
       "      <td>20.967742</td>\n",
       "    </tr>\n",
       "    <tr>\n",
       "      <th>26</th>\n",
       "      <td>MT</td>\n",
       "      <td>20.588235</td>\n",
       "    </tr>\n",
       "    <tr>\n",
       "      <th>2</th>\n",
       "      <td>AR</td>\n",
       "      <td>20.000000</td>\n",
       "    </tr>\n",
       "    <tr>\n",
       "      <th>16</th>\n",
       "      <td>KS</td>\n",
       "      <td>18.571429</td>\n",
       "    </tr>\n",
       "    <tr>\n",
       "      <th>34</th>\n",
       "      <td>NY</td>\n",
       "      <td>18.072289</td>\n",
       "    </tr>\n",
       "    <tr>\n",
       "      <th>23</th>\n",
       "      <td>MN</td>\n",
       "      <td>17.857143</td>\n",
       "    </tr>\n",
       "    <tr>\n",
       "      <th>38</th>\n",
       "      <td>PA</td>\n",
       "      <td>17.777778</td>\n",
       "    </tr>\n",
       "    <tr>\n",
       "      <th>19</th>\n",
       "      <td>MA</td>\n",
       "      <td>16.923077</td>\n",
       "    </tr>\n",
       "    <tr>\n",
       "      <th>6</th>\n",
       "      <td>CT</td>\n",
       "      <td>16.216216</td>\n",
       "    </tr>\n",
       "    <tr>\n",
       "      <th>27</th>\n",
       "      <td>NC</td>\n",
       "      <td>16.176471</td>\n",
       "    </tr>\n",
       "    <tr>\n",
       "      <th>30</th>\n",
       "      <td>NH</td>\n",
       "      <td>16.071429</td>\n",
       "    </tr>\n",
       "    <tr>\n",
       "      <th>10</th>\n",
       "      <td>GA</td>\n",
       "      <td>14.814815</td>\n",
       "    </tr>\n",
       "    <tr>\n",
       "      <th>8</th>\n",
       "      <td>DE</td>\n",
       "      <td>14.754098</td>\n",
       "    </tr>\n",
       "    <tr>\n",
       "      <th>36</th>\n",
       "      <td>OK</td>\n",
       "      <td>14.754098</td>\n",
       "    </tr>\n",
       "    <tr>\n",
       "      <th>37</th>\n",
       "      <td>OR</td>\n",
       "      <td>14.102564</td>\n",
       "    </tr>\n",
       "    <tr>\n",
       "      <th>44</th>\n",
       "      <td>UT</td>\n",
       "      <td>13.888889</td>\n",
       "    </tr>\n",
       "    <tr>\n",
       "      <th>5</th>\n",
       "      <td>CO</td>\n",
       "      <td>13.636364</td>\n",
       "    </tr>\n",
       "    <tr>\n",
       "      <th>17</th>\n",
       "      <td>KY</td>\n",
       "      <td>13.559322</td>\n",
       "    </tr>\n",
       "    <tr>\n",
       "      <th>41</th>\n",
       "      <td>SD</td>\n",
       "      <td>13.333333</td>\n",
       "    </tr>\n",
       "    <tr>\n",
       "      <th>35</th>\n",
       "      <td>OH</td>\n",
       "      <td>12.820513</td>\n",
       "    </tr>\n",
       "    <tr>\n",
       "      <th>9</th>\n",
       "      <td>FL</td>\n",
       "      <td>12.698413</td>\n",
       "    </tr>\n",
       "    <tr>\n",
       "      <th>15</th>\n",
       "      <td>IN</td>\n",
       "      <td>12.676056</td>\n",
       "    </tr>\n",
       "    <tr>\n",
       "      <th>13</th>\n",
       "      <td>ID</td>\n",
       "      <td>12.328767</td>\n",
       "    </tr>\n",
       "    <tr>\n",
       "      <th>50</th>\n",
       "      <td>WY</td>\n",
       "      <td>11.688312</td>\n",
       "    </tr>\n",
       "    <tr>\n",
       "      <th>24</th>\n",
       "      <td>MO</td>\n",
       "      <td>11.111111</td>\n",
       "    </tr>\n",
       "    <tr>\n",
       "      <th>46</th>\n",
       "      <td>VT</td>\n",
       "      <td>10.958904</td>\n",
       "    </tr>\n",
       "    <tr>\n",
       "      <th>1</th>\n",
       "      <td>AL</td>\n",
       "      <td>10.000000</td>\n",
       "    </tr>\n",
       "    <tr>\n",
       "      <th>32</th>\n",
       "      <td>NM</td>\n",
       "      <td>9.677419</td>\n",
       "    </tr>\n",
       "    <tr>\n",
       "      <th>28</th>\n",
       "      <td>ND</td>\n",
       "      <td>9.677419</td>\n",
       "    </tr>\n",
       "    <tr>\n",
       "      <th>49</th>\n",
       "      <td>WV</td>\n",
       "      <td>9.433962</td>\n",
       "    </tr>\n",
       "    <tr>\n",
       "      <th>42</th>\n",
       "      <td>TN</td>\n",
       "      <td>9.433962</td>\n",
       "    </tr>\n",
       "    <tr>\n",
       "      <th>7</th>\n",
       "      <td>DC</td>\n",
       "      <td>9.259259</td>\n",
       "    </tr>\n",
       "    <tr>\n",
       "      <th>39</th>\n",
       "      <td>RI</td>\n",
       "      <td>9.230769</td>\n",
       "    </tr>\n",
       "    <tr>\n",
       "      <th>48</th>\n",
       "      <td>WI</td>\n",
       "      <td>8.974359</td>\n",
       "    </tr>\n",
       "    <tr>\n",
       "      <th>14</th>\n",
       "      <td>IL</td>\n",
       "      <td>8.620690</td>\n",
       "    </tr>\n",
       "    <tr>\n",
       "      <th>29</th>\n",
       "      <td>NE</td>\n",
       "      <td>8.196721</td>\n",
       "    </tr>\n",
       "    <tr>\n",
       "      <th>18</th>\n",
       "      <td>LA</td>\n",
       "      <td>7.843137</td>\n",
       "    </tr>\n",
       "    <tr>\n",
       "      <th>12</th>\n",
       "      <td>IA</td>\n",
       "      <td>6.818182</td>\n",
       "    </tr>\n",
       "    <tr>\n",
       "      <th>45</th>\n",
       "      <td>VA</td>\n",
       "      <td>6.493506</td>\n",
       "    </tr>\n",
       "    <tr>\n",
       "      <th>3</th>\n",
       "      <td>AZ</td>\n",
       "      <td>6.250000</td>\n",
       "    </tr>\n",
       "    <tr>\n",
       "      <th>0</th>\n",
       "      <td>AK</td>\n",
       "      <td>5.769231</td>\n",
       "    </tr>\n",
       "    <tr>\n",
       "      <th>11</th>\n",
       "      <td>HI</td>\n",
       "      <td>5.660377</td>\n",
       "    </tr>\n",
       "  </tbody>\n",
       "</table>\n",
       "</div>"
      ],
      "text/plain": [
       "   State  Churn Rate\n",
       "31    NJ   26.470588\n",
       "4     CA   26.470588\n",
       "43    TX   25.000000\n",
       "20    MD   24.285714\n",
       "40    SC   23.333333\n",
       "22    MI   21.917808\n",
       "25    MS   21.538462\n",
       "33    NV   21.212121\n",
       "47    WA   21.212121\n",
       "21    ME   20.967742\n",
       "26    MT   20.588235\n",
       "2     AR   20.000000\n",
       "16    KS   18.571429\n",
       "34    NY   18.072289\n",
       "23    MN   17.857143\n",
       "38    PA   17.777778\n",
       "19    MA   16.923077\n",
       "6     CT   16.216216\n",
       "27    NC   16.176471\n",
       "30    NH   16.071429\n",
       "10    GA   14.814815\n",
       "8     DE   14.754098\n",
       "36    OK   14.754098\n",
       "37    OR   14.102564\n",
       "44    UT   13.888889\n",
       "5     CO   13.636364\n",
       "17    KY   13.559322\n",
       "41    SD   13.333333\n",
       "35    OH   12.820513\n",
       "9     FL   12.698413\n",
       "15    IN   12.676056\n",
       "13    ID   12.328767\n",
       "50    WY   11.688312\n",
       "24    MO   11.111111\n",
       "46    VT   10.958904\n",
       "1     AL   10.000000\n",
       "32    NM    9.677419\n",
       "28    ND    9.677419\n",
       "49    WV    9.433962\n",
       "42    TN    9.433962\n",
       "7     DC    9.259259\n",
       "39    RI    9.230769\n",
       "48    WI    8.974359\n",
       "14    IL    8.620690\n",
       "29    NE    8.196721\n",
       "18    LA    7.843137\n",
       "12    IA    6.818182\n",
       "45    VA    6.493506\n",
       "3     AZ    6.250000\n",
       "0     AK    5.769231\n",
       "11    HI    5.660377"
      ]
     },
     "execution_count": 10,
     "metadata": {},
     "output_type": "execute_result"
    }
   ],
   "source": [
    "# Creating new dataframe for churn rate\n",
    "churn_rate_by_state = df.groupby('state')['churn'].mean() * 100\n",
    "churn_rate_by_state_df = churn_rate_by_state.reset_index()\n",
    "churn_rate_by_state_df.columns = ['State', 'Churn Rate']\n",
    "churn_rate_by_state_df.sort_values(by='Churn Rate', ascending=False)"
   ]
  },
  {
   "cell_type": "code",
   "execution_count": 13,
   "id": "747fa00c",
   "metadata": {},
   "outputs": [
    {
     "data": {
      "application/vnd.plotly.v1+json": {
       "config": {
        "plotlyServerURL": "https://plot.ly"
       },
       "data": [
        {
         "coloraxis": "coloraxis",
         "geo": "geo",
         "hovertemplate": "<b>%{hovertext}</b><br><br>State=%{location}<br>Churn Rate=%{z}<extra></extra>",
         "hovertext": [
          "AK",
          "AL",
          "AR",
          "AZ",
          "CA",
          "CO",
          "CT",
          "DC",
          "DE",
          "FL",
          "GA",
          "HI",
          "IA",
          "ID",
          "IL",
          "IN",
          "KS",
          "KY",
          "LA",
          "MA",
          "MD",
          "ME",
          "MI",
          "MN",
          "MO",
          "MS",
          "MT",
          "NC",
          "ND",
          "NE",
          "NH",
          "NJ",
          "NM",
          "NV",
          "NY",
          "OH",
          "OK",
          "OR",
          "PA",
          "RI",
          "SC",
          "SD",
          "TN",
          "TX",
          "UT",
          "VA",
          "VT",
          "WA",
          "WI",
          "WV",
          "WY"
         ],
         "locationmode": "USA-states",
         "locations": [
          "AK",
          "AL",
          "AR",
          "AZ",
          "CA",
          "CO",
          "CT",
          "DC",
          "DE",
          "FL",
          "GA",
          "HI",
          "IA",
          "ID",
          "IL",
          "IN",
          "KS",
          "KY",
          "LA",
          "MA",
          "MD",
          "ME",
          "MI",
          "MN",
          "MO",
          "MS",
          "MT",
          "NC",
          "ND",
          "NE",
          "NH",
          "NJ",
          "NM",
          "NV",
          "NY",
          "OH",
          "OK",
          "OR",
          "PA",
          "RI",
          "SC",
          "SD",
          "TN",
          "TX",
          "UT",
          "VA",
          "VT",
          "WA",
          "WI",
          "WV",
          "WY"
         ],
         "name": "",
         "type": "choropleth",
         "z": [
          5.769230769230769,
          10,
          20,
          6.25,
          26.47058823529412,
          13.636363636363635,
          16.216216216216218,
          9.25925925925926,
          14.754098360655737,
          12.698412698412698,
          14.814814814814813,
          5.660377358490567,
          6.8181818181818175,
          12.32876712328767,
          8.620689655172415,
          12.676056338028168,
          18.571428571428573,
          13.559322033898304,
          7.8431372549019605,
          16.923076923076923,
          24.285714285714285,
          20.967741935483872,
          21.91780821917808,
          17.857142857142858,
          11.11111111111111,
          21.53846153846154,
          20.588235294117645,
          16.176470588235293,
          9.67741935483871,
          8.19672131147541,
          16.071428571428573,
          26.47058823529412,
          9.67741935483871,
          21.21212121212121,
          18.072289156626507,
          12.82051282051282,
          14.754098360655737,
          14.102564102564102,
          17.77777777777778,
          9.230769230769232,
          23.333333333333332,
          13.333333333333334,
          9.433962264150944,
          25,
          13.88888888888889,
          6.493506493506493,
          10.95890410958904,
          21.21212121212121,
          8.974358974358974,
          9.433962264150944,
          11.688311688311687
         ]
        }
       ],
       "layout": {
        "coloraxis": {
         "colorbar": {
          "title": {
           "text": "Churn Rate"
          }
         },
         "colorscale": [
          [
           0,
           "rgb(247,252,245)"
          ],
          [
           0.125,
           "rgb(229,245,224)"
          ],
          [
           0.25,
           "rgb(199,233,192)"
          ],
          [
           0.375,
           "rgb(161,217,155)"
          ],
          [
           0.5,
           "rgb(116,196,118)"
          ],
          [
           0.625,
           "rgb(65,171,93)"
          ],
          [
           0.75,
           "rgb(35,139,69)"
          ],
          [
           0.875,
           "rgb(0,109,44)"
          ],
          [
           1,
           "rgb(0,68,27)"
          ]
         ]
        },
        "geo": {
         "center": {},
         "domain": {
          "x": [
           0,
           1
          ],
          "y": [
           0,
           1
          ]
         },
         "scope": "usa"
        },
        "legend": {
         "tracegroupgap": 0
        },
        "template": {
         "data": {
          "bar": [
           {
            "error_x": {
             "color": "#2a3f5f"
            },
            "error_y": {
             "color": "#2a3f5f"
            },
            "marker": {
             "line": {
              "color": "#E5ECF6",
              "width": 0.5
             },
             "pattern": {
              "fillmode": "overlay",
              "size": 10,
              "solidity": 0.2
             }
            },
            "type": "bar"
           }
          ],
          "barpolar": [
           {
            "marker": {
             "line": {
              "color": "#E5ECF6",
              "width": 0.5
             },
             "pattern": {
              "fillmode": "overlay",
              "size": 10,
              "solidity": 0.2
             }
            },
            "type": "barpolar"
           }
          ],
          "carpet": [
           {
            "aaxis": {
             "endlinecolor": "#2a3f5f",
             "gridcolor": "white",
             "linecolor": "white",
             "minorgridcolor": "white",
             "startlinecolor": "#2a3f5f"
            },
            "baxis": {
             "endlinecolor": "#2a3f5f",
             "gridcolor": "white",
             "linecolor": "white",
             "minorgridcolor": "white",
             "startlinecolor": "#2a3f5f"
            },
            "type": "carpet"
           }
          ],
          "choropleth": [
           {
            "colorbar": {
             "outlinewidth": 0,
             "ticks": ""
            },
            "type": "choropleth"
           }
          ],
          "contour": [
           {
            "colorbar": {
             "outlinewidth": 0,
             "ticks": ""
            },
            "colorscale": [
             [
              0,
              "#0d0887"
             ],
             [
              0.1111111111111111,
              "#46039f"
             ],
             [
              0.2222222222222222,
              "#7201a8"
             ],
             [
              0.3333333333333333,
              "#9c179e"
             ],
             [
              0.4444444444444444,
              "#bd3786"
             ],
             [
              0.5555555555555556,
              "#d8576b"
             ],
             [
              0.6666666666666666,
              "#ed7953"
             ],
             [
              0.7777777777777778,
              "#fb9f3a"
             ],
             [
              0.8888888888888888,
              "#fdca26"
             ],
             [
              1,
              "#f0f921"
             ]
            ],
            "type": "contour"
           }
          ],
          "contourcarpet": [
           {
            "colorbar": {
             "outlinewidth": 0,
             "ticks": ""
            },
            "type": "contourcarpet"
           }
          ],
          "heatmap": [
           {
            "colorbar": {
             "outlinewidth": 0,
             "ticks": ""
            },
            "colorscale": [
             [
              0,
              "#0d0887"
             ],
             [
              0.1111111111111111,
              "#46039f"
             ],
             [
              0.2222222222222222,
              "#7201a8"
             ],
             [
              0.3333333333333333,
              "#9c179e"
             ],
             [
              0.4444444444444444,
              "#bd3786"
             ],
             [
              0.5555555555555556,
              "#d8576b"
             ],
             [
              0.6666666666666666,
              "#ed7953"
             ],
             [
              0.7777777777777778,
              "#fb9f3a"
             ],
             [
              0.8888888888888888,
              "#fdca26"
             ],
             [
              1,
              "#f0f921"
             ]
            ],
            "type": "heatmap"
           }
          ],
          "heatmapgl": [
           {
            "colorbar": {
             "outlinewidth": 0,
             "ticks": ""
            },
            "colorscale": [
             [
              0,
              "#0d0887"
             ],
             [
              0.1111111111111111,
              "#46039f"
             ],
             [
              0.2222222222222222,
              "#7201a8"
             ],
             [
              0.3333333333333333,
              "#9c179e"
             ],
             [
              0.4444444444444444,
              "#bd3786"
             ],
             [
              0.5555555555555556,
              "#d8576b"
             ],
             [
              0.6666666666666666,
              "#ed7953"
             ],
             [
              0.7777777777777778,
              "#fb9f3a"
             ],
             [
              0.8888888888888888,
              "#fdca26"
             ],
             [
              1,
              "#f0f921"
             ]
            ],
            "type": "heatmapgl"
           }
          ],
          "histogram": [
           {
            "marker": {
             "pattern": {
              "fillmode": "overlay",
              "size": 10,
              "solidity": 0.2
             }
            },
            "type": "histogram"
           }
          ],
          "histogram2d": [
           {
            "colorbar": {
             "outlinewidth": 0,
             "ticks": ""
            },
            "colorscale": [
             [
              0,
              "#0d0887"
             ],
             [
              0.1111111111111111,
              "#46039f"
             ],
             [
              0.2222222222222222,
              "#7201a8"
             ],
             [
              0.3333333333333333,
              "#9c179e"
             ],
             [
              0.4444444444444444,
              "#bd3786"
             ],
             [
              0.5555555555555556,
              "#d8576b"
             ],
             [
              0.6666666666666666,
              "#ed7953"
             ],
             [
              0.7777777777777778,
              "#fb9f3a"
             ],
             [
              0.8888888888888888,
              "#fdca26"
             ],
             [
              1,
              "#f0f921"
             ]
            ],
            "type": "histogram2d"
           }
          ],
          "histogram2dcontour": [
           {
            "colorbar": {
             "outlinewidth": 0,
             "ticks": ""
            },
            "colorscale": [
             [
              0,
              "#0d0887"
             ],
             [
              0.1111111111111111,
              "#46039f"
             ],
             [
              0.2222222222222222,
              "#7201a8"
             ],
             [
              0.3333333333333333,
              "#9c179e"
             ],
             [
              0.4444444444444444,
              "#bd3786"
             ],
             [
              0.5555555555555556,
              "#d8576b"
             ],
             [
              0.6666666666666666,
              "#ed7953"
             ],
             [
              0.7777777777777778,
              "#fb9f3a"
             ],
             [
              0.8888888888888888,
              "#fdca26"
             ],
             [
              1,
              "#f0f921"
             ]
            ],
            "type": "histogram2dcontour"
           }
          ],
          "mesh3d": [
           {
            "colorbar": {
             "outlinewidth": 0,
             "ticks": ""
            },
            "type": "mesh3d"
           }
          ],
          "parcoords": [
           {
            "line": {
             "colorbar": {
              "outlinewidth": 0,
              "ticks": ""
             }
            },
            "type": "parcoords"
           }
          ],
          "pie": [
           {
            "automargin": true,
            "type": "pie"
           }
          ],
          "scatter": [
           {
            "fillpattern": {
             "fillmode": "overlay",
             "size": 10,
             "solidity": 0.2
            },
            "type": "scatter"
           }
          ],
          "scatter3d": [
           {
            "line": {
             "colorbar": {
              "outlinewidth": 0,
              "ticks": ""
             }
            },
            "marker": {
             "colorbar": {
              "outlinewidth": 0,
              "ticks": ""
             }
            },
            "type": "scatter3d"
           }
          ],
          "scattercarpet": [
           {
            "marker": {
             "colorbar": {
              "outlinewidth": 0,
              "ticks": ""
             }
            },
            "type": "scattercarpet"
           }
          ],
          "scattergeo": [
           {
            "marker": {
             "colorbar": {
              "outlinewidth": 0,
              "ticks": ""
             }
            },
            "type": "scattergeo"
           }
          ],
          "scattergl": [
           {
            "marker": {
             "colorbar": {
              "outlinewidth": 0,
              "ticks": ""
             }
            },
            "type": "scattergl"
           }
          ],
          "scattermapbox": [
           {
            "marker": {
             "colorbar": {
              "outlinewidth": 0,
              "ticks": ""
             }
            },
            "type": "scattermapbox"
           }
          ],
          "scatterpolar": [
           {
            "marker": {
             "colorbar": {
              "outlinewidth": 0,
              "ticks": ""
             }
            },
            "type": "scatterpolar"
           }
          ],
          "scatterpolargl": [
           {
            "marker": {
             "colorbar": {
              "outlinewidth": 0,
              "ticks": ""
             }
            },
            "type": "scatterpolargl"
           }
          ],
          "scatterternary": [
           {
            "marker": {
             "colorbar": {
              "outlinewidth": 0,
              "ticks": ""
             }
            },
            "type": "scatterternary"
           }
          ],
          "surface": [
           {
            "colorbar": {
             "outlinewidth": 0,
             "ticks": ""
            },
            "colorscale": [
             [
              0,
              "#0d0887"
             ],
             [
              0.1111111111111111,
              "#46039f"
             ],
             [
              0.2222222222222222,
              "#7201a8"
             ],
             [
              0.3333333333333333,
              "#9c179e"
             ],
             [
              0.4444444444444444,
              "#bd3786"
             ],
             [
              0.5555555555555556,
              "#d8576b"
             ],
             [
              0.6666666666666666,
              "#ed7953"
             ],
             [
              0.7777777777777778,
              "#fb9f3a"
             ],
             [
              0.8888888888888888,
              "#fdca26"
             ],
             [
              1,
              "#f0f921"
             ]
            ],
            "type": "surface"
           }
          ],
          "table": [
           {
            "cells": {
             "fill": {
              "color": "#EBF0F8"
             },
             "line": {
              "color": "white"
             }
            },
            "header": {
             "fill": {
              "color": "#C8D4E3"
             },
             "line": {
              "color": "white"
             }
            },
            "type": "table"
           }
          ]
         },
         "layout": {
          "annotationdefaults": {
           "arrowcolor": "#2a3f5f",
           "arrowhead": 0,
           "arrowwidth": 1
          },
          "autotypenumbers": "strict",
          "coloraxis": {
           "colorbar": {
            "outlinewidth": 0,
            "ticks": ""
           }
          },
          "colorscale": {
           "diverging": [
            [
             0,
             "#8e0152"
            ],
            [
             0.1,
             "#c51b7d"
            ],
            [
             0.2,
             "#de77ae"
            ],
            [
             0.3,
             "#f1b6da"
            ],
            [
             0.4,
             "#fde0ef"
            ],
            [
             0.5,
             "#f7f7f7"
            ],
            [
             0.6,
             "#e6f5d0"
            ],
            [
             0.7,
             "#b8e186"
            ],
            [
             0.8,
             "#7fbc41"
            ],
            [
             0.9,
             "#4d9221"
            ],
            [
             1,
             "#276419"
            ]
           ],
           "sequential": [
            [
             0,
             "#0d0887"
            ],
            [
             0.1111111111111111,
             "#46039f"
            ],
            [
             0.2222222222222222,
             "#7201a8"
            ],
            [
             0.3333333333333333,
             "#9c179e"
            ],
            [
             0.4444444444444444,
             "#bd3786"
            ],
            [
             0.5555555555555556,
             "#d8576b"
            ],
            [
             0.6666666666666666,
             "#ed7953"
            ],
            [
             0.7777777777777778,
             "#fb9f3a"
            ],
            [
             0.8888888888888888,
             "#fdca26"
            ],
            [
             1,
             "#f0f921"
            ]
           ],
           "sequentialminus": [
            [
             0,
             "#0d0887"
            ],
            [
             0.1111111111111111,
             "#46039f"
            ],
            [
             0.2222222222222222,
             "#7201a8"
            ],
            [
             0.3333333333333333,
             "#9c179e"
            ],
            [
             0.4444444444444444,
             "#bd3786"
            ],
            [
             0.5555555555555556,
             "#d8576b"
            ],
            [
             0.6666666666666666,
             "#ed7953"
            ],
            [
             0.7777777777777778,
             "#fb9f3a"
            ],
            [
             0.8888888888888888,
             "#fdca26"
            ],
            [
             1,
             "#f0f921"
            ]
           ]
          },
          "colorway": [
           "#636efa",
           "#EF553B",
           "#00cc96",
           "#ab63fa",
           "#FFA15A",
           "#19d3f3",
           "#FF6692",
           "#B6E880",
           "#FF97FF",
           "#FECB52"
          ],
          "font": {
           "color": "#2a3f5f"
          },
          "geo": {
           "bgcolor": "white",
           "lakecolor": "white",
           "landcolor": "#E5ECF6",
           "showlakes": true,
           "showland": true,
           "subunitcolor": "white"
          },
          "hoverlabel": {
           "align": "left"
          },
          "hovermode": "closest",
          "mapbox": {
           "style": "light"
          },
          "paper_bgcolor": "white",
          "plot_bgcolor": "#E5ECF6",
          "polar": {
           "angularaxis": {
            "gridcolor": "white",
            "linecolor": "white",
            "ticks": ""
           },
           "bgcolor": "#E5ECF6",
           "radialaxis": {
            "gridcolor": "white",
            "linecolor": "white",
            "ticks": ""
           }
          },
          "scene": {
           "xaxis": {
            "backgroundcolor": "#E5ECF6",
            "gridcolor": "white",
            "gridwidth": 2,
            "linecolor": "white",
            "showbackground": true,
            "ticks": "",
            "zerolinecolor": "white"
           },
           "yaxis": {
            "backgroundcolor": "#E5ECF6",
            "gridcolor": "white",
            "gridwidth": 2,
            "linecolor": "white",
            "showbackground": true,
            "ticks": "",
            "zerolinecolor": "white"
           },
           "zaxis": {
            "backgroundcolor": "#E5ECF6",
            "gridcolor": "white",
            "gridwidth": 2,
            "linecolor": "white",
            "showbackground": true,
            "ticks": "",
            "zerolinecolor": "white"
           }
          },
          "shapedefaults": {
           "line": {
            "color": "#2a3f5f"
           }
          },
          "ternary": {
           "aaxis": {
            "gridcolor": "white",
            "linecolor": "white",
            "ticks": ""
           },
           "baxis": {
            "gridcolor": "white",
            "linecolor": "white",
            "ticks": ""
           },
           "bgcolor": "#E5ECF6",
           "caxis": {
            "gridcolor": "white",
            "linecolor": "white",
            "ticks": ""
           }
          },
          "title": {
           "x": 0.05
          },
          "xaxis": {
           "automargin": true,
           "gridcolor": "white",
           "linecolor": "white",
           "ticks": "",
           "title": {
            "standoff": 15
           },
           "zerolinecolor": "white",
           "zerolinewidth": 2
          },
          "yaxis": {
           "automargin": true,
           "gridcolor": "white",
           "linecolor": "white",
           "ticks": "",
           "title": {
            "standoff": 15
           },
           "zerolinecolor": "white",
           "zerolinewidth": 2
          }
         }
        },
        "title": {
         "text": "Churn Rate by State"
        }
       }
      },
      "text/html": [
       "<div>                            <div id=\"89efbb09-efc9-467a-bad5-b0b19a616700\" class=\"plotly-graph-div\" style=\"height:525px; width:100%;\"></div>            <script type=\"text/javascript\">                require([\"plotly\"], function(Plotly) {                    window.PLOTLYENV=window.PLOTLYENV || {};                                    if (document.getElementById(\"89efbb09-efc9-467a-bad5-b0b19a616700\")) {                    Plotly.newPlot(                        \"89efbb09-efc9-467a-bad5-b0b19a616700\",                        [{\"coloraxis\":\"coloraxis\",\"geo\":\"geo\",\"hovertemplate\":\"<b>%{hovertext}</b><br><br>State=%{location}<br>Churn Rate=%{z}<extra></extra>\",\"hovertext\":[\"AK\",\"AL\",\"AR\",\"AZ\",\"CA\",\"CO\",\"CT\",\"DC\",\"DE\",\"FL\",\"GA\",\"HI\",\"IA\",\"ID\",\"IL\",\"IN\",\"KS\",\"KY\",\"LA\",\"MA\",\"MD\",\"ME\",\"MI\",\"MN\",\"MO\",\"MS\",\"MT\",\"NC\",\"ND\",\"NE\",\"NH\",\"NJ\",\"NM\",\"NV\",\"NY\",\"OH\",\"OK\",\"OR\",\"PA\",\"RI\",\"SC\",\"SD\",\"TN\",\"TX\",\"UT\",\"VA\",\"VT\",\"WA\",\"WI\",\"WV\",\"WY\"],\"locationmode\":\"USA-states\",\"locations\":[\"AK\",\"AL\",\"AR\",\"AZ\",\"CA\",\"CO\",\"CT\",\"DC\",\"DE\",\"FL\",\"GA\",\"HI\",\"IA\",\"ID\",\"IL\",\"IN\",\"KS\",\"KY\",\"LA\",\"MA\",\"MD\",\"ME\",\"MI\",\"MN\",\"MO\",\"MS\",\"MT\",\"NC\",\"ND\",\"NE\",\"NH\",\"NJ\",\"NM\",\"NV\",\"NY\",\"OH\",\"OK\",\"OR\",\"PA\",\"RI\",\"SC\",\"SD\",\"TN\",\"TX\",\"UT\",\"VA\",\"VT\",\"WA\",\"WI\",\"WV\",\"WY\"],\"name\":\"\",\"z\":[5.769230769230769,10.0,20.0,6.25,26.47058823529412,13.636363636363635,16.216216216216218,9.25925925925926,14.754098360655737,12.698412698412698,14.814814814814813,5.660377358490567,6.8181818181818175,12.32876712328767,8.620689655172415,12.676056338028168,18.571428571428573,13.559322033898304,7.8431372549019605,16.923076923076923,24.285714285714285,20.967741935483872,21.91780821917808,17.857142857142858,11.11111111111111,21.53846153846154,20.588235294117645,16.176470588235293,9.67741935483871,8.19672131147541,16.071428571428573,26.47058823529412,9.67741935483871,21.21212121212121,18.072289156626507,12.82051282051282,14.754098360655737,14.102564102564102,17.77777777777778,9.230769230769232,23.333333333333332,13.333333333333334,9.433962264150944,25.0,13.88888888888889,6.493506493506493,10.95890410958904,21.21212121212121,8.974358974358974,9.433962264150944,11.688311688311687],\"type\":\"choropleth\"}],                        {\"template\":{\"data\":{\"histogram2dcontour\":[{\"type\":\"histogram2dcontour\",\"colorbar\":{\"outlinewidth\":0,\"ticks\":\"\"},\"colorscale\":[[0.0,\"#0d0887\"],[0.1111111111111111,\"#46039f\"],[0.2222222222222222,\"#7201a8\"],[0.3333333333333333,\"#9c179e\"],[0.4444444444444444,\"#bd3786\"],[0.5555555555555556,\"#d8576b\"],[0.6666666666666666,\"#ed7953\"],[0.7777777777777778,\"#fb9f3a\"],[0.8888888888888888,\"#fdca26\"],[1.0,\"#f0f921\"]]}],\"choropleth\":[{\"type\":\"choropleth\",\"colorbar\":{\"outlinewidth\":0,\"ticks\":\"\"}}],\"histogram2d\":[{\"type\":\"histogram2d\",\"colorbar\":{\"outlinewidth\":0,\"ticks\":\"\"},\"colorscale\":[[0.0,\"#0d0887\"],[0.1111111111111111,\"#46039f\"],[0.2222222222222222,\"#7201a8\"],[0.3333333333333333,\"#9c179e\"],[0.4444444444444444,\"#bd3786\"],[0.5555555555555556,\"#d8576b\"],[0.6666666666666666,\"#ed7953\"],[0.7777777777777778,\"#fb9f3a\"],[0.8888888888888888,\"#fdca26\"],[1.0,\"#f0f921\"]]}],\"heatmap\":[{\"type\":\"heatmap\",\"colorbar\":{\"outlinewidth\":0,\"ticks\":\"\"},\"colorscale\":[[0.0,\"#0d0887\"],[0.1111111111111111,\"#46039f\"],[0.2222222222222222,\"#7201a8\"],[0.3333333333333333,\"#9c179e\"],[0.4444444444444444,\"#bd3786\"],[0.5555555555555556,\"#d8576b\"],[0.6666666666666666,\"#ed7953\"],[0.7777777777777778,\"#fb9f3a\"],[0.8888888888888888,\"#fdca26\"],[1.0,\"#f0f921\"]]}],\"heatmapgl\":[{\"type\":\"heatmapgl\",\"colorbar\":{\"outlinewidth\":0,\"ticks\":\"\"},\"colorscale\":[[0.0,\"#0d0887\"],[0.1111111111111111,\"#46039f\"],[0.2222222222222222,\"#7201a8\"],[0.3333333333333333,\"#9c179e\"],[0.4444444444444444,\"#bd3786\"],[0.5555555555555556,\"#d8576b\"],[0.6666666666666666,\"#ed7953\"],[0.7777777777777778,\"#fb9f3a\"],[0.8888888888888888,\"#fdca26\"],[1.0,\"#f0f921\"]]}],\"contourcarpet\":[{\"type\":\"contourcarpet\",\"colorbar\":{\"outlinewidth\":0,\"ticks\":\"\"}}],\"contour\":[{\"type\":\"contour\",\"colorbar\":{\"outlinewidth\":0,\"ticks\":\"\"},\"colorscale\":[[0.0,\"#0d0887\"],[0.1111111111111111,\"#46039f\"],[0.2222222222222222,\"#7201a8\"],[0.3333333333333333,\"#9c179e\"],[0.4444444444444444,\"#bd3786\"],[0.5555555555555556,\"#d8576b\"],[0.6666666666666666,\"#ed7953\"],[0.7777777777777778,\"#fb9f3a\"],[0.8888888888888888,\"#fdca26\"],[1.0,\"#f0f921\"]]}],\"surface\":[{\"type\":\"surface\",\"colorbar\":{\"outlinewidth\":0,\"ticks\":\"\"},\"colorscale\":[[0.0,\"#0d0887\"],[0.1111111111111111,\"#46039f\"],[0.2222222222222222,\"#7201a8\"],[0.3333333333333333,\"#9c179e\"],[0.4444444444444444,\"#bd3786\"],[0.5555555555555556,\"#d8576b\"],[0.6666666666666666,\"#ed7953\"],[0.7777777777777778,\"#fb9f3a\"],[0.8888888888888888,\"#fdca26\"],[1.0,\"#f0f921\"]]}],\"mesh3d\":[{\"type\":\"mesh3d\",\"colorbar\":{\"outlinewidth\":0,\"ticks\":\"\"}}],\"scatter\":[{\"fillpattern\":{\"fillmode\":\"overlay\",\"size\":10,\"solidity\":0.2},\"type\":\"scatter\"}],\"parcoords\":[{\"type\":\"parcoords\",\"line\":{\"colorbar\":{\"outlinewidth\":0,\"ticks\":\"\"}}}],\"scatterpolargl\":[{\"type\":\"scatterpolargl\",\"marker\":{\"colorbar\":{\"outlinewidth\":0,\"ticks\":\"\"}}}],\"bar\":[{\"error_x\":{\"color\":\"#2a3f5f\"},\"error_y\":{\"color\":\"#2a3f5f\"},\"marker\":{\"line\":{\"color\":\"#E5ECF6\",\"width\":0.5},\"pattern\":{\"fillmode\":\"overlay\",\"size\":10,\"solidity\":0.2}},\"type\":\"bar\"}],\"scattergeo\":[{\"type\":\"scattergeo\",\"marker\":{\"colorbar\":{\"outlinewidth\":0,\"ticks\":\"\"}}}],\"scatterpolar\":[{\"type\":\"scatterpolar\",\"marker\":{\"colorbar\":{\"outlinewidth\":0,\"ticks\":\"\"}}}],\"histogram\":[{\"marker\":{\"pattern\":{\"fillmode\":\"overlay\",\"size\":10,\"solidity\":0.2}},\"type\":\"histogram\"}],\"scattergl\":[{\"type\":\"scattergl\",\"marker\":{\"colorbar\":{\"outlinewidth\":0,\"ticks\":\"\"}}}],\"scatter3d\":[{\"type\":\"scatter3d\",\"line\":{\"colorbar\":{\"outlinewidth\":0,\"ticks\":\"\"}},\"marker\":{\"colorbar\":{\"outlinewidth\":0,\"ticks\":\"\"}}}],\"scattermapbox\":[{\"type\":\"scattermapbox\",\"marker\":{\"colorbar\":{\"outlinewidth\":0,\"ticks\":\"\"}}}],\"scatterternary\":[{\"type\":\"scatterternary\",\"marker\":{\"colorbar\":{\"outlinewidth\":0,\"ticks\":\"\"}}}],\"scattercarpet\":[{\"type\":\"scattercarpet\",\"marker\":{\"colorbar\":{\"outlinewidth\":0,\"ticks\":\"\"}}}],\"carpet\":[{\"aaxis\":{\"endlinecolor\":\"#2a3f5f\",\"gridcolor\":\"white\",\"linecolor\":\"white\",\"minorgridcolor\":\"white\",\"startlinecolor\":\"#2a3f5f\"},\"baxis\":{\"endlinecolor\":\"#2a3f5f\",\"gridcolor\":\"white\",\"linecolor\":\"white\",\"minorgridcolor\":\"white\",\"startlinecolor\":\"#2a3f5f\"},\"type\":\"carpet\"}],\"table\":[{\"cells\":{\"fill\":{\"color\":\"#EBF0F8\"},\"line\":{\"color\":\"white\"}},\"header\":{\"fill\":{\"color\":\"#C8D4E3\"},\"line\":{\"color\":\"white\"}},\"type\":\"table\"}],\"barpolar\":[{\"marker\":{\"line\":{\"color\":\"#E5ECF6\",\"width\":0.5},\"pattern\":{\"fillmode\":\"overlay\",\"size\":10,\"solidity\":0.2}},\"type\":\"barpolar\"}],\"pie\":[{\"automargin\":true,\"type\":\"pie\"}]},\"layout\":{\"autotypenumbers\":\"strict\",\"colorway\":[\"#636efa\",\"#EF553B\",\"#00cc96\",\"#ab63fa\",\"#FFA15A\",\"#19d3f3\",\"#FF6692\",\"#B6E880\",\"#FF97FF\",\"#FECB52\"],\"font\":{\"color\":\"#2a3f5f\"},\"hovermode\":\"closest\",\"hoverlabel\":{\"align\":\"left\"},\"paper_bgcolor\":\"white\",\"plot_bgcolor\":\"#E5ECF6\",\"polar\":{\"bgcolor\":\"#E5ECF6\",\"angularaxis\":{\"gridcolor\":\"white\",\"linecolor\":\"white\",\"ticks\":\"\"},\"radialaxis\":{\"gridcolor\":\"white\",\"linecolor\":\"white\",\"ticks\":\"\"}},\"ternary\":{\"bgcolor\":\"#E5ECF6\",\"aaxis\":{\"gridcolor\":\"white\",\"linecolor\":\"white\",\"ticks\":\"\"},\"baxis\":{\"gridcolor\":\"white\",\"linecolor\":\"white\",\"ticks\":\"\"},\"caxis\":{\"gridcolor\":\"white\",\"linecolor\":\"white\",\"ticks\":\"\"}},\"coloraxis\":{\"colorbar\":{\"outlinewidth\":0,\"ticks\":\"\"}},\"colorscale\":{\"sequential\":[[0.0,\"#0d0887\"],[0.1111111111111111,\"#46039f\"],[0.2222222222222222,\"#7201a8\"],[0.3333333333333333,\"#9c179e\"],[0.4444444444444444,\"#bd3786\"],[0.5555555555555556,\"#d8576b\"],[0.6666666666666666,\"#ed7953\"],[0.7777777777777778,\"#fb9f3a\"],[0.8888888888888888,\"#fdca26\"],[1.0,\"#f0f921\"]],\"sequentialminus\":[[0.0,\"#0d0887\"],[0.1111111111111111,\"#46039f\"],[0.2222222222222222,\"#7201a8\"],[0.3333333333333333,\"#9c179e\"],[0.4444444444444444,\"#bd3786\"],[0.5555555555555556,\"#d8576b\"],[0.6666666666666666,\"#ed7953\"],[0.7777777777777778,\"#fb9f3a\"],[0.8888888888888888,\"#fdca26\"],[1.0,\"#f0f921\"]],\"diverging\":[[0,\"#8e0152\"],[0.1,\"#c51b7d\"],[0.2,\"#de77ae\"],[0.3,\"#f1b6da\"],[0.4,\"#fde0ef\"],[0.5,\"#f7f7f7\"],[0.6,\"#e6f5d0\"],[0.7,\"#b8e186\"],[0.8,\"#7fbc41\"],[0.9,\"#4d9221\"],[1,\"#276419\"]]},\"xaxis\":{\"gridcolor\":\"white\",\"linecolor\":\"white\",\"ticks\":\"\",\"title\":{\"standoff\":15},\"zerolinecolor\":\"white\",\"automargin\":true,\"zerolinewidth\":2},\"yaxis\":{\"gridcolor\":\"white\",\"linecolor\":\"white\",\"ticks\":\"\",\"title\":{\"standoff\":15},\"zerolinecolor\":\"white\",\"automargin\":true,\"zerolinewidth\":2},\"scene\":{\"xaxis\":{\"backgroundcolor\":\"#E5ECF6\",\"gridcolor\":\"white\",\"linecolor\":\"white\",\"showbackground\":true,\"ticks\":\"\",\"zerolinecolor\":\"white\",\"gridwidth\":2},\"yaxis\":{\"backgroundcolor\":\"#E5ECF6\",\"gridcolor\":\"white\",\"linecolor\":\"white\",\"showbackground\":true,\"ticks\":\"\",\"zerolinecolor\":\"white\",\"gridwidth\":2},\"zaxis\":{\"backgroundcolor\":\"#E5ECF6\",\"gridcolor\":\"white\",\"linecolor\":\"white\",\"showbackground\":true,\"ticks\":\"\",\"zerolinecolor\":\"white\",\"gridwidth\":2}},\"shapedefaults\":{\"line\":{\"color\":\"#2a3f5f\"}},\"annotationdefaults\":{\"arrowcolor\":\"#2a3f5f\",\"arrowhead\":0,\"arrowwidth\":1},\"geo\":{\"bgcolor\":\"white\",\"landcolor\":\"#E5ECF6\",\"subunitcolor\":\"white\",\"showland\":true,\"showlakes\":true,\"lakecolor\":\"white\"},\"title\":{\"x\":0.05},\"mapbox\":{\"style\":\"light\"}}},\"geo\":{\"domain\":{\"x\":[0.0,1.0],\"y\":[0.0,1.0]},\"center\":{},\"scope\":\"usa\"},\"coloraxis\":{\"colorbar\":{\"title\":{\"text\":\"Churn Rate\"}},\"colorscale\":[[0.0,\"rgb(247,252,245)\"],[0.125,\"rgb(229,245,224)\"],[0.25,\"rgb(199,233,192)\"],[0.375,\"rgb(161,217,155)\"],[0.5,\"rgb(116,196,118)\"],[0.625,\"rgb(65,171,93)\"],[0.75,\"rgb(35,139,69)\"],[0.875,\"rgb(0,109,44)\"],[1.0,\"rgb(0,68,27)\"]]},\"legend\":{\"tracegroupgap\":0},\"title\":{\"text\":\"Churn Rate by State\"}},                        {\"responsive\": true}                    ).then(function(){\n",
       "                            \n",
       "var gd = document.getElementById('89efbb09-efc9-467a-bad5-b0b19a616700');\n",
       "var x = new MutationObserver(function (mutations, observer) {{\n",
       "        var display = window.getComputedStyle(gd).display;\n",
       "        if (!display || display === 'none') {{\n",
       "            console.log([gd, 'removed!']);\n",
       "            Plotly.purge(gd);\n",
       "            observer.disconnect();\n",
       "        }}\n",
       "}});\n",
       "\n",
       "// Listen for the removal of the full notebook cells\n",
       "var notebookContainer = gd.closest('#notebook-container');\n",
       "if (notebookContainer) {{\n",
       "    x.observe(notebookContainer, {childList: true});\n",
       "}}\n",
       "\n",
       "// Listen for the clearing of the current output cell\n",
       "var outputEl = gd.closest('.output');\n",
       "if (outputEl) {{\n",
       "    x.observe(outputEl, {childList: true});\n",
       "}}\n",
       "\n",
       "                        })                };                });            </script>        </div>"
      ]
     },
     "metadata": {},
     "output_type": "display_data"
    }
   ],
   "source": [
    "# Creating interactive map of churn rate\n",
    "import plotly.express as px\n",
    "\n",
    "fig = px.choropleth(churn_rate_by_state_df,\n",
    "                    locations='State',  \n",
    "                    locationmode='USA-states',\n",
    "                    color='Churn Rate',\n",
    "                    hover_name='State',\n",
    "                    color_continuous_scale=px.colors.sequential.Greens,\n",
    "                    scope='usa',\n",
    "                    title='Churn Rate by State')\n",
    "fig.show()"
   ]
  },
  {
   "cell_type": "markdown",
   "id": "66c963cf",
   "metadata": {},
   "source": [
    "In case the map is not loading for some readers, here is a hardcoded image:\n",
    "\n",
    "<img src=\"images/churn_rate_map.png\" width=\"600\" height=\"400\">"
   ]
  },
  {
   "cell_type": "markdown",
   "id": "a661dd57",
   "metadata": {},
   "source": [
    "As we can see above, the states with darker shading have higher churn rates. States like New Jersey, California, and Texas have the highest rates, while Arizona, Alaska, and Hawaii have almost no churn. While the Northeast tends to be somewhat darker-shaded overall--suggesting higher churn rates-- there doesn't seem to be a huge geographical trend. High-churn states are fairly evenly distributed, with both coasts having representatives."
   ]
  },
  {
   "cell_type": "markdown",
   "id": "ae0fd128",
   "metadata": {},
   "source": [
    "Let's make a quick visualization of the tatget column."
   ]
  },
  {
   "cell_type": "code",
   "execution_count": 32,
   "id": "c392d5ba",
   "metadata": {},
   "outputs": [
    {
     "data": {
      "text/plain": [
       "[Text(0, 0, 'No'), Text(1, 0, 'Yes')]"
      ]
     },
     "execution_count": 32,
     "metadata": {},
     "output_type": "execute_result"
    },
    {
     "data": {
      "image/png": "[encoded data removed]",
      "text/plain": [
       "<Figure size 640x480 with 1 Axes>"
      ]
     },
     "metadata": {},
     "output_type": "display_data"
    },
    {
     "name": "stdout",
     "output_type": "stream",
     "text": [
      "time: 58.7 ms (started: 2024-02-29 13:27:24 -05:00)\n"
     ]
    }
   ],
   "source": [
    "# Getting churn counts\n",
    "churn_counts = df['churn'].value_counts()\n",
    "\n",
    "# Plotting bar chart\n",
    "fig, ax = plt.subplots()\n",
    "churn_counts.plot(kind='bar', ax=ax, color=['skyblue', 'orange'])\n",
    "ax.set_title('Customer Churn Distribution')\n",
    "ax.set_xlabel('Churn')\n",
    "ax.set_ylabel('Number of Customers')\n",
    "ax.set_xticklabels(['No', 'Yes'], rotation=0)"
   ]
  },
  {
   "cell_type": "markdown",
   "id": "c8d01a28",
   "metadata": {},
   "source": [
    "Based on the bar chart above and the target mean, it seems that the majority of the target cases are 0s, or the negative case. We can confirm this by checking the value counts below:"
   ]
  },
  {
   "cell_type": "code",
   "execution_count": 33,
   "id": "c0e638e9",
   "metadata": {},
   "outputs": [
    {
     "data": {
      "text/plain": [
       "0    85.508551\n",
       "1    14.491449\n",
       "Name: churn, dtype: float64"
      ]
     },
     "execution_count": 33,
     "metadata": {},
     "output_type": "execute_result"
    },
    {
     "name": "stdout",
     "output_type": "stream",
     "text": [
      "time: 2.11 ms (started: 2024-02-29 13:27:24 -05:00)\n"
     ]
    }
   ],
   "source": [
    "# Getting churn value counts as percentage\n",
    "(df['churn'].value_counts()/3333) * 100"
   ]
  },
  {
   "cell_type": "markdown",
   "id": "0d68fc8f",
   "metadata": {},
   "source": [
    "Indeed, it looks like we have a pretty large class imbalance within the target column. The negative case makes up 85.5% of the total cases in the dataset. This means that, if we made a model that only guessed the negative case every time, we would already wind up with 85.5% accuracy! That's no good. We can change this by resampling the data to make it more even. However, to avoid data leakage, let's first split the data into train and test sets. After that, we can set up some handy pipelines to preprocess our data before feeding it into some models."
   ]
  },
  {
   "cell_type": "code",
   "execution_count": 34,
   "id": "fd7448c5",
   "metadata": {},
   "outputs": [
    {
     "name": "stdout",
     "output_type": "stream",
     "text": [
      "time: 3.05 ms (started: 2024-02-29 13:27:24 -05:00)\n"
     ]
    }
   ],
   "source": [
    "# Defining target and predictors\n",
    "y = df['churn']\n",
    "\n",
    "X = df.drop('churn', axis=1)"
   ]
  },
  {
   "cell_type": "code",
   "execution_count": 35,
   "id": "14125519",
   "metadata": {},
   "outputs": [
    {
     "name": "stdout",
     "output_type": "stream",
     "text": [
      "time: 4.7 ms (started: 2024-02-29 13:27:24 -05:00)\n"
     ]
    }
   ],
   "source": [
    "# Splitting data into training and test sets\n",
    "X_train, X_test, y_train, y_test = train_test_split(X, y, random_state=42)"
   ]
  },
  {
   "cell_type": "code",
   "execution_count": 36,
   "id": "0ffbf6d1",
   "metadata": {},
   "outputs": [
    {
     "name": "stdout",
     "output_type": "stream",
     "text": [
      "0    85.67427\n",
      "1    14.32573\n",
      "Name: churn, dtype: float64\n",
      "0    85.01199\n",
      "1    14.98801\n",
      "Name: churn, dtype: float64\n",
      "time: 6.16 ms (started: 2024-02-29 13:27:25 -05:00)\n"
     ]
    }
   ],
   "source": [
    "# Checking for class imbalance after split\n",
    "print((y_train.value_counts()/len(y_train)) * 100)\n",
    "\n",
    "print((y_test.value_counts()/len(y_test)) * 100)"
   ]
  },
  {
   "cell_type": "markdown",
   "id": "dd9ff497",
   "metadata": {},
   "source": [
    "As we can see, the target ratios are still imbalanced after the split. Now, we can go about building some pipelines to rectify that!"
   ]
  },
  {
   "cell_type": "code",
   "execution_count": 37,
   "id": "9c4dae31",
   "metadata": {},
   "outputs": [
    {
     "name": "stdout",
     "output_type": "stream",
     "text": [
      "time: 1.49 ms (started: 2024-02-29 13:27:25 -05:00)\n"
     ]
    }
   ],
   "source": [
    "# Creating numeric scaling pipeline\n",
    "numeric_pipe = Pipeline(steps=[('scaler', StandardScaler())]) # Applies Standard Scaler\n",
    "\n",
    "# Creating one-hot encoding pipeline\n",
    "categorical_pipe = Pipeline([('ohe', OneHotEncoder(sparse=True, handle_unknown='ignore'))]) # Applies one-hot encoder"
   ]
  },
  {
   "cell_type": "markdown",
   "id": "92221c7c",
   "metadata": {},
   "source": [
    "We've created two separate pipelines. One will apply standard scaling to any columns it encounters, and the other will one-hot encode. Now, we can combine these columns to sort the data into the different subpipelines for processing."
   ]
  },
  {
   "cell_type": "code",
   "execution_count": 38,
   "id": "33d89f0a",
   "metadata": {},
   "outputs": [
    {
     "name": "stdout",
     "output_type": "stream",
     "text": [
      "time: 1.53 ms (started: 2024-02-29 13:27:25 -05:00)\n"
     ]
    }
   ],
   "source": [
    "# Combining pipelines to handle all columns\n",
    "preprocessing_pipe = ColumnTransformer(transformers=[\n",
    "                                ('numeric_pipe', numeric_pipe, \n",
    "                                make_column_selector(dtype_include=['int', 'float'])), # Applies scaling to numeric columns\n",
    "    \n",
    "                                ('categorical_pipe', categorical_pipe, \n",
    "                                make_column_selector(dtype_include='object'))]) # Applies OHE to categorical columns"
   ]
  },
  {
   "cell_type": "markdown",
   "id": "28ade95f",
   "metadata": {},
   "source": [
    "The column transformer above will work to preprocess our data for us. For rebalancing our target samples, we have to use a different pipeline, which we will create once we begin modeling."
   ]
  },
  {
   "cell_type": "markdown",
   "id": "0c57686d",
   "metadata": {},
   "source": [
    "# Preliminary Modeling"
   ]
  },
  {
   "cell_type": "markdown",
   "id": "920b0019",
   "metadata": {},
   "source": [
    "#### Our target metrics for model performance will be recall and accuracy.\n",
    "\n",
    "Before we dive into modeling, I'll want to see how long each model takes to fit. This could have implications for the stakeholder, especially when the model is used on much larger datasets."
   ]
  },
  {
   "cell_type": "code",
   "execution_count": 39,
   "id": "7cb8180f",
   "metadata": {},
   "outputs": [
    {
     "name": "stdout",
     "output_type": "stream",
     "text": [
      "The autotime extension is already loaded. To reload it, use:\n",
      "  %reload_ext autotime\n",
      "time: 663 µs (started: 2024-02-29 13:27:26 -05:00)\n"
     ]
    }
   ],
   "source": [
    "# Loading execution timer\n",
    "%load_ext autotime"
   ]
  },
  {
   "cell_type": "markdown",
   "id": "8663de2a",
   "metadata": {},
   "source": [
    "## Logistic Regression"
   ]
  },
  {
   "cell_type": "markdown",
   "id": "bb1e5ccc",
   "metadata": {},
   "source": [
    "Now that we have our preprocessing pipeline, we can forego a lot of the manual preprocessing steps and just use our trusty pipelines! We're going to make a new pipeline here that incorporates a Synthetic Minority Over-sampling Technique, or SMOTE. This will balance out the target samples, making our model's results more significant. \n",
    "\n",
    "Note that, for logistic regressions, we are going to be scaling our data. For future models, we may not need to."
   ]
  },
  {
   "cell_type": "code",
   "execution_count": 40,
   "id": "1076dedf",
   "metadata": {},
   "outputs": [
    {
     "name": "stdout",
     "output_type": "stream",
     "text": [
      "time: 1.34 ms (started: 2024-02-29 13:27:26 -05:00)\n"
     ]
    }
   ],
   "source": [
    "# Creating logistic regression pipeline\n",
    "logreg_pipe = ImPipeline(steps=[('preprocessor', preprocessing_pipe), # Our preprocessing pipe from above\n",
    "                        ('sm', SMOTE(random_state=42)), # Resamples target\n",
    "                        ('logreg', LogisticRegression(solver='liblinear', random_state=42))]) # Runs regression"
   ]
  },
  {
   "cell_type": "markdown",
   "id": "54ef9a65",
   "metadata": {},
   "source": [
    "The pipeline above allows us to automate all our preprocessing, resampling, and modeling steps. As you will see below, the pipeline will automatically bin the data and process it as needed, ignoring unecessary methods for each step."
   ]
  },
  {
   "cell_type": "code",
   "execution_count": 41,
   "id": "0d6b7af2",
   "metadata": {},
   "outputs": [
    {
     "data": {
      "text/html": [
       "<style>#sk-container-id-1 {color: black;background-color: white;}#sk-container-id-1 pre{padding: 0;}#sk-container-id-1 div.sk-toggleable {background-color: white;}#sk-container-id-1 label.sk-toggleable__label {cursor: pointer;display: block;width: 100%;margin-bottom: 0;padding: 0.3em;box-sizing: border-box;text-align: center;}#sk-container-id-1 label.sk-toggleable__label-arrow:before {content: \"▸\";float: left;margin-right: 0.25em;color: #696969;}#sk-container-id-1 label.sk-toggleable__label-arrow:hover:before {color: black;}#sk-container-id-1 div.sk-estimator:hover label.sk-toggleable__label-arrow:before {color: black;}#sk-container-id-1 div.sk-toggleable__content {max-height: 0;max-width: 0;overflow: hidden;text-align: left;background-color: #f0f8ff;}#sk-container-id-1 div.sk-toggleable__content pre {margin: 0.2em;color: black;border-radius: 0.25em;background-color: #f0f8ff;}#sk-container-id-1 input.sk-toggleable__control:checked~div.sk-toggleable__content {max-height: 200px;max-width: 100%;overflow: auto;}#sk-container-id-1 input.sk-toggleable__control:checked~label.sk-toggleable__label-arrow:before {content: \"▾\";}#sk-container-id-1 div.sk-estimator input.sk-toggleable__control:checked~label.sk-toggleable__label {background-color: #d4ebff;}#sk-container-id-1 div.sk-label input.sk-toggleable__control:checked~label.sk-toggleable__label {background-color: #d4ebff;}#sk-container-id-1 input.sk-hidden--visually {border: 0;clip: rect(1px 1px 1px 1px);clip: rect(1px, 1px, 1px, 1px);height: 1px;margin: -1px;overflow: hidden;padding: 0;position: absolute;width: 1px;}#sk-container-id-1 div.sk-estimator {font-family: monospace;background-color: #f0f8ff;border: 1px dotted black;border-radius: 0.25em;box-sizing: border-box;margin-bottom: 0.5em;}#sk-container-id-1 div.sk-estimator:hover {background-color: #d4ebff;}#sk-container-id-1 div.sk-parallel-item::after {content: \"\";width: 100%;border-bottom: 1px solid gray;flex-grow: 1;}#sk-container-id-1 div.sk-label:hover label.sk-toggleable__label {background-color: #d4ebff;}#sk-container-id-1 div.sk-serial::before {content: \"\";position: absolute;border-left: 1px solid gray;box-sizing: border-box;top: 0;bottom: 0;left: 50%;z-index: 0;}#sk-container-id-1 div.sk-serial {display: flex;flex-direction: column;align-items: center;background-color: white;padding-right: 0.2em;padding-left: 0.2em;position: relative;}#sk-container-id-1 div.sk-item {position: relative;z-index: 1;}#sk-container-id-1 div.sk-parallel {display: flex;align-items: stretch;justify-content: center;background-color: white;position: relative;}#sk-container-id-1 div.sk-item::before, #sk-container-id-1 div.sk-parallel-item::before {content: \"\";position: absolute;border-left: 1px solid gray;box-sizing: border-box;top: 0;bottom: 0;left: 50%;z-index: -1;}#sk-container-id-1 div.sk-parallel-item {display: flex;flex-direction: column;z-index: 1;position: relative;background-color: white;}#sk-container-id-1 div.sk-parallel-item:first-child::after {align-self: flex-end;width: 50%;}#sk-container-id-1 div.sk-parallel-item:last-child::after {align-self: flex-start;width: 50%;}#sk-container-id-1 div.sk-parallel-item:only-child::after {width: 0;}#sk-container-id-1 div.sk-dashed-wrapped {border: 1px dashed gray;margin: 0 0.4em 0.5em 0.4em;box-sizing: border-box;padding-bottom: 0.4em;background-color: white;}#sk-container-id-1 div.sk-label label {font-family: monospace;font-weight: bold;display: inline-block;line-height: 1.2em;}#sk-container-id-1 div.sk-label-container {text-align: center;}#sk-container-id-1 div.sk-container {/* jupyter's `normalize.less` sets `[hidden] { display: none; }` but bootstrap.min.css set `[hidden] { display: none !important; }` so we also need the `!important` here to be able to override the default hidden behavior on the sphinx rendered scikit-learn.org. See: https://github.com/scikit-learn/scikit-learn/issues/21755 */display: inline-block !important;position: relative;}#sk-container-id-1 div.sk-text-repr-fallback {display: none;}</style><div id=\"sk-container-id-1\" class=\"sk-top-container\"><div class=\"sk-text-repr-fallback\"><pre>Pipeline(steps=[(&#x27;preprocessor&#x27;,\n",
       "                 ColumnTransformer(transformers=[(&#x27;numeric_pipe&#x27;,\n",
       "                                                  Pipeline(steps=[(&#x27;scaler&#x27;,\n",
       "                                                                   StandardScaler())]),\n",
       "                                                  &lt;sklearn.compose._column_transformer.make_column_selector object at 0x297692910&gt;),\n",
       "                                                 (&#x27;categorical_pipe&#x27;,\n",
       "                                                  Pipeline(steps=[(&#x27;ohe&#x27;,\n",
       "                                                                   OneHotEncoder(handle_unknown=&#x27;ignore&#x27;))]),\n",
       "                                                  &lt;sklearn.compose._column_transformer.make_column_selector object at 0x297692d30&gt;)])),\n",
       "                (&#x27;sm&#x27;, SMOTE(random_state=42)),\n",
       "                (&#x27;logreg&#x27;,\n",
       "                 LogisticRegression(random_state=42, solver=&#x27;liblinear&#x27;))])</pre><b>In a Jupyter environment, please rerun this cell to show the HTML representation or trust the notebook. <br />On GitHub, the HTML representation is unable to render, please try loading this page with nbviewer.org.</b></div><div class=\"sk-container\" hidden><div class=\"sk-item sk-dashed-wrapped\"><div class=\"sk-label-container\"><div class=\"sk-label sk-toggleable\"><input class=\"sk-toggleable__control sk-hidden--visually\" id=\"sk-estimator-id-1\" type=\"checkbox\" ><label for=\"sk-estimator-id-1\" class=\"sk-toggleable__label sk-toggleable__label-arrow\">Pipeline</label><div class=\"sk-toggleable__content\"><pre>Pipeline(steps=[(&#x27;preprocessor&#x27;,\n",
       "                 ColumnTransformer(transformers=[(&#x27;numeric_pipe&#x27;,\n",
       "                                                  Pipeline(steps=[(&#x27;scaler&#x27;,\n",
       "                                                                   StandardScaler())]),\n",
       "                                                  &lt;sklearn.compose._column_transformer.make_column_selector object at 0x297692910&gt;),\n",
       "                                                 (&#x27;categorical_pipe&#x27;,\n",
       "                                                  Pipeline(steps=[(&#x27;ohe&#x27;,\n",
       "                                                                   OneHotEncoder(handle_unknown=&#x27;ignore&#x27;))]),\n",
       "                                                  &lt;sklearn.compose._column_transformer.make_column_selector object at 0x297692d30&gt;)])),\n",
       "                (&#x27;sm&#x27;, SMOTE(random_state=42)),\n",
       "                (&#x27;logreg&#x27;,\n",
       "                 LogisticRegression(random_state=42, solver=&#x27;liblinear&#x27;))])</pre></div></div></div><div class=\"sk-serial\"><div class=\"sk-item sk-dashed-wrapped\"><div class=\"sk-label-container\"><div class=\"sk-label sk-toggleable\"><input class=\"sk-toggleable__control sk-hidden--visually\" id=\"sk-estimator-id-2\" type=\"checkbox\" ><label for=\"sk-estimator-id-2\" class=\"sk-toggleable__label sk-toggleable__label-arrow\">preprocessor: ColumnTransformer</label><div class=\"sk-toggleable__content\"><pre>ColumnTransformer(transformers=[(&#x27;numeric_pipe&#x27;,\n",
       "                                 Pipeline(steps=[(&#x27;scaler&#x27;, StandardScaler())]),\n",
       "                                 &lt;sklearn.compose._column_transformer.make_column_selector object at 0x297692910&gt;),\n",
       "                                (&#x27;categorical_pipe&#x27;,\n",
       "                                 Pipeline(steps=[(&#x27;ohe&#x27;,\n",
       "                                                  OneHotEncoder(handle_unknown=&#x27;ignore&#x27;))]),\n",
       "                                 &lt;sklearn.compose._column_transformer.make_column_selector object at 0x297692d30&gt;)])</pre></div></div></div><div class=\"sk-parallel\"><div class=\"sk-parallel-item\"><div class=\"sk-item\"><div class=\"sk-label-container\"><div class=\"sk-label sk-toggleable\"><input class=\"sk-toggleable__control sk-hidden--visually\" id=\"sk-estimator-id-3\" type=\"checkbox\" ><label for=\"sk-estimator-id-3\" class=\"sk-toggleable__label sk-toggleable__label-arrow\">numeric_pipe</label><div class=\"sk-toggleable__content\"><pre>&lt;sklearn.compose._column_transformer.make_column_selector object at 0x297692910&gt;</pre></div></div></div><div class=\"sk-serial\"><div class=\"sk-item\"><div class=\"sk-serial\"><div class=\"sk-item\"><div class=\"sk-estimator sk-toggleable\"><input class=\"sk-toggleable__control sk-hidden--visually\" id=\"sk-estimator-id-4\" type=\"checkbox\" ><label for=\"sk-estimator-id-4\" class=\"sk-toggleable__label sk-toggleable__label-arrow\">StandardScaler</label><div class=\"sk-toggleable__content\"><pre>StandardScaler()</pre></div></div></div></div></div></div></div></div><div class=\"sk-parallel-item\"><div class=\"sk-item\"><div class=\"sk-label-container\"><div class=\"sk-label sk-toggleable\"><input class=\"sk-toggleable__control sk-hidden--visually\" id=\"sk-estimator-id-5\" type=\"checkbox\" ><label for=\"sk-estimator-id-5\" class=\"sk-toggleable__label sk-toggleable__label-arrow\">categorical_pipe</label><div class=\"sk-toggleable__content\"><pre>&lt;sklearn.compose._column_transformer.make_column_selector object at 0x297692d30&gt;</pre></div></div></div><div class=\"sk-serial\"><div class=\"sk-item\"><div class=\"sk-serial\"><div class=\"sk-item\"><div class=\"sk-estimator sk-toggleable\"><input class=\"sk-toggleable__control sk-hidden--visually\" id=\"sk-estimator-id-6\" type=\"checkbox\" ><label for=\"sk-estimator-id-6\" class=\"sk-toggleable__label sk-toggleable__label-arrow\">OneHotEncoder</label><div class=\"sk-toggleable__content\"><pre>OneHotEncoder(handle_unknown=&#x27;ignore&#x27;)</pre></div></div></div></div></div></div></div></div></div></div><div class=\"sk-item\"><div class=\"sk-estimator sk-toggleable\"><input class=\"sk-toggleable__control sk-hidden--visually\" id=\"sk-estimator-id-7\" type=\"checkbox\" ><label for=\"sk-estimator-id-7\" class=\"sk-toggleable__label sk-toggleable__label-arrow\">SMOTE</label><div class=\"sk-toggleable__content\"><pre>SMOTE(random_state=42)</pre></div></div></div><div class=\"sk-item\"><div class=\"sk-estimator sk-toggleable\"><input class=\"sk-toggleable__control sk-hidden--visually\" id=\"sk-estimator-id-8\" type=\"checkbox\" ><label for=\"sk-estimator-id-8\" class=\"sk-toggleable__label sk-toggleable__label-arrow\">LogisticRegression</label><div class=\"sk-toggleable__content\"><pre>LogisticRegression(random_state=42, solver=&#x27;liblinear&#x27;)</pre></div></div></div></div></div></div></div>"
      ],
      "text/plain": [
       "Pipeline(steps=[('preprocessor',\n",
       "                 ColumnTransformer(transformers=[('numeric_pipe',\n",
       "                                                  Pipeline(steps=[('scaler',\n",
       "                                                                   StandardScaler())]),\n",
       "                                                  <sklearn.compose._column_transformer.make_column_selector object at 0x297692910>),\n",
       "                                                 ('categorical_pipe',\n",
       "                                                  Pipeline(steps=[('ohe',\n",
       "                                                                   OneHotEncoder(handle_unknown='ignore'))]),\n",
       "                                                  <sklearn.compose._column_transformer.make_column_selector object at 0x297692d30>)])),\n",
       "                ('sm', SMOTE(random_state=42)),\n",
       "                ('logreg',\n",
       "                 LogisticRegression(random_state=42, solver='liblinear'))])"
      ]
     },
     "execution_count": 41,
     "metadata": {},
     "output_type": "execute_result"
    },
    {
     "name": "stdout",
     "output_type": "stream",
     "text": [
      "time: 58.3 ms (started: 2024-02-29 13:27:27 -05:00)\n"
     ]
    }
   ],
   "source": [
    "# Fitting regression to training data\n",
    "logreg_model = logreg_pipe.fit(X_train, y_train)\n",
    "logreg_model"
   ]
  },
  {
   "cell_type": "code",
   "execution_count": 42,
   "id": "d3739326",
   "metadata": {},
   "outputs": [
    {
     "data": {
      "text/plain": [
       "0.7799119647859144"
      ]
     },
     "execution_count": 42,
     "metadata": {},
     "output_type": "execute_result"
    },
    {
     "name": "stdout",
     "output_type": "stream",
     "text": [
      "time: 9.42 ms (started: 2024-02-29 13:27:27 -05:00)\n"
     ]
    }
   ],
   "source": [
    "# Scoring model on training data\n",
    "logreg_model.score(X_train, y_train)"
   ]
  },
  {
   "cell_type": "code",
   "execution_count": 43,
   "id": "1f968c12",
   "metadata": {},
   "outputs": [
    {
     "name": "stdout",
     "output_type": "stream",
     "text": [
      "time: 10.8 ms (started: 2024-02-29 13:27:27 -05:00)\n"
     ]
    }
   ],
   "source": [
    "# Getting predictions on test set\n",
    "logreg_y_pred = logreg_model.predict(X_test)"
   ]
  },
  {
   "cell_type": "code",
   "execution_count": 44,
   "id": "2ef7f6b0",
   "metadata": {},
   "outputs": [
    {
     "name": "stdout",
     "output_type": "stream",
     "text": [
      "              precision    recall  f1-score   support\n",
      "\n",
      "           0       0.95      0.77      0.85       709\n",
      "           1       0.37      0.78      0.50       125\n",
      "\n",
      "    accuracy                           0.77       834\n",
      "   macro avg       0.66      0.77      0.68       834\n",
      "weighted avg       0.86      0.77      0.80       834\n",
      "\n",
      "time: 6.03 ms (started: 2024-02-29 13:27:27 -05:00)\n"
     ]
    }
   ],
   "source": [
    "# Printing various metrics on test data\n",
    "print(classification_report(y_test, logreg_y_pred))"
   ]
  },
  {
   "cell_type": "markdown",
   "id": "7b212f35",
   "metadata": {},
   "source": [
    "Our logistic regression classifier leaves plenty to be desired. It performs similarly on both the training and test data, with an accuracy score of around 77% on both. An important point is that it consistently fails to identify positive cases in the test set. This is a problem because we want the model to accurately predict positive cases, because false negatives will lead to unexpected churn numbers over time.\n",
    "\n",
    "Based on this model's performance, the next model I am going to try is a decision tree. Decision trees can often better capture non-linear relationships. They can also be less sensitive to outliers. Another plus is that they need one less preprocessing step, because numeric columns don't need to be scaled. Finally, random forests let us really dig into individual feature importances, letting us know what matters the most for the model. Let's build one of these models below."
   ]
  },
  {
   "cell_type": "markdown",
   "id": "3fb8381f",
   "metadata": {},
   "source": [
    "## Decision Tree"
   ]
  },
  {
   "cell_type": "markdown",
   "id": "7f395566",
   "metadata": {},
   "source": [
    "For this next model, we will try is a simple decision tree. For this model, we do not need to scale our data because the model will perform splits the same way no matter the scale. Therefore, this time around, we only need a one-hot encoder as our preprocessor. "
   ]
  },
  {
   "cell_type": "code",
   "execution_count": 45,
   "id": "a9de8d24",
   "metadata": {},
   "outputs": [
    {
     "name": "stdout",
     "output_type": "stream",
     "text": [
      "time: 1.23 ms (started: 2024-02-29 13:27:28 -05:00)\n"
     ]
    }
   ],
   "source": [
    "# Creating preprocessing pipeline\n",
    "dec_tree_preprocessor = ColumnTransformer(transformers=[\n",
    "                                          ('ohe', OneHotEncoder(sparse=True, handle_unknown='ignore'), \n",
    "                                           [0])], remainder='passthrough')"
   ]
  },
  {
   "cell_type": "code",
   "execution_count": 46,
   "id": "10315eeb",
   "metadata": {},
   "outputs": [
    {
     "name": "stdout",
     "output_type": "stream",
     "text": [
      "time: 828 µs (started: 2024-02-29 13:27:28 -05:00)\n"
     ]
    }
   ],
   "source": [
    "# Creating decision tree pipeline\n",
    "dec_tree_pipe = ImPipeline(steps=[('ohe', dec_tree_preprocessor), # One-hot preprocessor\n",
    "                                  ('sm', SMOTE(random_state=42)), # Resampling\n",
    "                                  ('tree', DecisionTreeClassifier(random_state=42))]) # Fits decision tree"
   ]
  },
  {
   "cell_type": "code",
   "execution_count": 47,
   "id": "96417ff9",
   "metadata": {},
   "outputs": [
    {
     "data": {
      "text/html": [
       "<style>#sk-container-id-2 {color: black;background-color: white;}#sk-container-id-2 pre{padding: 0;}#sk-container-id-2 div.sk-toggleable {background-color: white;}#sk-container-id-2 label.sk-toggleable__label {cursor: pointer;display: block;width: 100%;margin-bottom: 0;padding: 0.3em;box-sizing: border-box;text-align: center;}#sk-container-id-2 label.sk-toggleable__label-arrow:before {content: \"▸\";float: left;margin-right: 0.25em;color: #696969;}#sk-container-id-2 label.sk-toggleable__label-arrow:hover:before {color: black;}#sk-container-id-2 div.sk-estimator:hover label.sk-toggleable__label-arrow:before {color: black;}#sk-container-id-2 div.sk-toggleable__content {max-height: 0;max-width: 0;overflow: hidden;text-align: left;background-color: #f0f8ff;}#sk-container-id-2 div.sk-toggleable__content pre {margin: 0.2em;color: black;border-radius: 0.25em;background-color: #f0f8ff;}#sk-container-id-2 input.sk-toggleable__control:checked~div.sk-toggleable__content {max-height: 200px;max-width: 100%;overflow: auto;}#sk-container-id-2 input.sk-toggleable__control:checked~label.sk-toggleable__label-arrow:before {content: \"▾\";}#sk-container-id-2 div.sk-estimator input.sk-toggleable__control:checked~label.sk-toggleable__label {background-color: #d4ebff;}#sk-container-id-2 div.sk-label input.sk-toggleable__control:checked~label.sk-toggleable__label {background-color: #d4ebff;}#sk-container-id-2 input.sk-hidden--visually {border: 0;clip: rect(1px 1px 1px 1px);clip: rect(1px, 1px, 1px, 1px);height: 1px;margin: -1px;overflow: hidden;padding: 0;position: absolute;width: 1px;}#sk-container-id-2 div.sk-estimator {font-family: monospace;background-color: #f0f8ff;border: 1px dotted black;border-radius: 0.25em;box-sizing: border-box;margin-bottom: 0.5em;}#sk-container-id-2 div.sk-estimator:hover {background-color: #d4ebff;}#sk-container-id-2 div.sk-parallel-item::after {content: \"\";width: 100%;border-bottom: 1px solid gray;flex-grow: 1;}#sk-container-id-2 div.sk-label:hover label.sk-toggleable__label {background-color: #d4ebff;}#sk-container-id-2 div.sk-serial::before {content: \"\";position: absolute;border-left: 1px solid gray;box-sizing: border-box;top: 0;bottom: 0;left: 50%;z-index: 0;}#sk-container-id-2 div.sk-serial {display: flex;flex-direction: column;align-items: center;background-color: white;padding-right: 0.2em;padding-left: 0.2em;position: relative;}#sk-container-id-2 div.sk-item {position: relative;z-index: 1;}#sk-container-id-2 div.sk-parallel {display: flex;align-items: stretch;justify-content: center;background-color: white;position: relative;}#sk-container-id-2 div.sk-item::before, #sk-container-id-2 div.sk-parallel-item::before {content: \"\";position: absolute;border-left: 1px solid gray;box-sizing: border-box;top: 0;bottom: 0;left: 50%;z-index: -1;}#sk-container-id-2 div.sk-parallel-item {display: flex;flex-direction: column;z-index: 1;position: relative;background-color: white;}#sk-container-id-2 div.sk-parallel-item:first-child::after {align-self: flex-end;width: 50%;}#sk-container-id-2 div.sk-parallel-item:last-child::after {align-self: flex-start;width: 50%;}#sk-container-id-2 div.sk-parallel-item:only-child::after {width: 0;}#sk-container-id-2 div.sk-dashed-wrapped {border: 1px dashed gray;margin: 0 0.4em 0.5em 0.4em;box-sizing: border-box;padding-bottom: 0.4em;background-color: white;}#sk-container-id-2 div.sk-label label {font-family: monospace;font-weight: bold;display: inline-block;line-height: 1.2em;}#sk-container-id-2 div.sk-label-container {text-align: center;}#sk-container-id-2 div.sk-container {/* jupyter's `normalize.less` sets `[hidden] { display: none; }` but bootstrap.min.css set `[hidden] { display: none !important; }` so we also need the `!important` here to be able to override the default hidden behavior on the sphinx rendered scikit-learn.org. See: https://github.com/scikit-learn/scikit-learn/issues/21755 */display: inline-block !important;position: relative;}#sk-container-id-2 div.sk-text-repr-fallback {display: none;}</style><div id=\"sk-container-id-2\" class=\"sk-top-container\"><div class=\"sk-text-repr-fallback\"><pre>Pipeline(steps=[(&#x27;ohe&#x27;,\n",
       "                 ColumnTransformer(remainder=&#x27;passthrough&#x27;,\n",
       "                                   transformers=[(&#x27;ohe&#x27;,\n",
       "                                                  OneHotEncoder(handle_unknown=&#x27;ignore&#x27;),\n",
       "                                                  [0])])),\n",
       "                (&#x27;sm&#x27;, SMOTE(random_state=42)),\n",
       "                (&#x27;tree&#x27;, DecisionTreeClassifier(random_state=42))])</pre><b>In a Jupyter environment, please rerun this cell to show the HTML representation or trust the notebook. <br />On GitHub, the HTML representation is unable to render, please try loading this page with nbviewer.org.</b></div><div class=\"sk-container\" hidden><div class=\"sk-item sk-dashed-wrapped\"><div class=\"sk-label-container\"><div class=\"sk-label sk-toggleable\"><input class=\"sk-toggleable__control sk-hidden--visually\" id=\"sk-estimator-id-9\" type=\"checkbox\" ><label for=\"sk-estimator-id-9\" class=\"sk-toggleable__label sk-toggleable__label-arrow\">Pipeline</label><div class=\"sk-toggleable__content\"><pre>Pipeline(steps=[(&#x27;ohe&#x27;,\n",
       "                 ColumnTransformer(remainder=&#x27;passthrough&#x27;,\n",
       "                                   transformers=[(&#x27;ohe&#x27;,\n",
       "                                                  OneHotEncoder(handle_unknown=&#x27;ignore&#x27;),\n",
       "                                                  [0])])),\n",
       "                (&#x27;sm&#x27;, SMOTE(random_state=42)),\n",
       "                (&#x27;tree&#x27;, DecisionTreeClassifier(random_state=42))])</pre></div></div></div><div class=\"sk-serial\"><div class=\"sk-item sk-dashed-wrapped\"><div class=\"sk-label-container\"><div class=\"sk-label sk-toggleable\"><input class=\"sk-toggleable__control sk-hidden--visually\" id=\"sk-estimator-id-10\" type=\"checkbox\" ><label for=\"sk-estimator-id-10\" class=\"sk-toggleable__label sk-toggleable__label-arrow\">ohe: ColumnTransformer</label><div class=\"sk-toggleable__content\"><pre>ColumnTransformer(remainder=&#x27;passthrough&#x27;,\n",
       "                  transformers=[(&#x27;ohe&#x27;, OneHotEncoder(handle_unknown=&#x27;ignore&#x27;),\n",
       "                                 [0])])</pre></div></div></div><div class=\"sk-parallel\"><div class=\"sk-parallel-item\"><div class=\"sk-item\"><div class=\"sk-label-container\"><div class=\"sk-label sk-toggleable\"><input class=\"sk-toggleable__control sk-hidden--visually\" id=\"sk-estimator-id-11\" type=\"checkbox\" ><label for=\"sk-estimator-id-11\" class=\"sk-toggleable__label sk-toggleable__label-arrow\">ohe</label><div class=\"sk-toggleable__content\"><pre>[0]</pre></div></div></div><div class=\"sk-serial\"><div class=\"sk-item\"><div class=\"sk-estimator sk-toggleable\"><input class=\"sk-toggleable__control sk-hidden--visually\" id=\"sk-estimator-id-12\" type=\"checkbox\" ><label for=\"sk-estimator-id-12\" class=\"sk-toggleable__label sk-toggleable__label-arrow\">OneHotEncoder</label><div class=\"sk-toggleable__content\"><pre>OneHotEncoder(handle_unknown=&#x27;ignore&#x27;)</pre></div></div></div></div></div></div><div class=\"sk-parallel-item\"><div class=\"sk-item\"><div class=\"sk-label-container\"><div class=\"sk-label sk-toggleable\"><input class=\"sk-toggleable__control sk-hidden--visually\" id=\"sk-estimator-id-13\" type=\"checkbox\" ><label for=\"sk-estimator-id-13\" class=\"sk-toggleable__label sk-toggleable__label-arrow\">remainder</label><div class=\"sk-toggleable__content\"><pre>[&#x27;account length&#x27;, &#x27;area code&#x27;, &#x27;international plan&#x27;, &#x27;voice mail plan&#x27;, &#x27;number vmail messages&#x27;, &#x27;total day minutes&#x27;, &#x27;total day calls&#x27;, &#x27;total day charge&#x27;, &#x27;total eve minutes&#x27;, &#x27;total eve calls&#x27;, &#x27;total eve charge&#x27;, &#x27;total night minutes&#x27;, &#x27;total night calls&#x27;, &#x27;total night charge&#x27;, &#x27;total intl minutes&#x27;, &#x27;total intl calls&#x27;, &#x27;total intl charge&#x27;, &#x27;customer service calls&#x27;]</pre></div></div></div><div class=\"sk-serial\"><div class=\"sk-item\"><div class=\"sk-estimator sk-toggleable\"><input class=\"sk-toggleable__control sk-hidden--visually\" id=\"sk-estimator-id-14\" type=\"checkbox\" ><label for=\"sk-estimator-id-14\" class=\"sk-toggleable__label sk-toggleable__label-arrow\">passthrough</label><div class=\"sk-toggleable__content\"><pre>passthrough</pre></div></div></div></div></div></div></div></div><div class=\"sk-item\"><div class=\"sk-estimator sk-toggleable\"><input class=\"sk-toggleable__control sk-hidden--visually\" id=\"sk-estimator-id-15\" type=\"checkbox\" ><label for=\"sk-estimator-id-15\" class=\"sk-toggleable__label sk-toggleable__label-arrow\">SMOTE</label><div class=\"sk-toggleable__content\"><pre>SMOTE(random_state=42)</pre></div></div></div><div class=\"sk-item\"><div class=\"sk-estimator sk-toggleable\"><input class=\"sk-toggleable__control sk-hidden--visually\" id=\"sk-estimator-id-16\" type=\"checkbox\" ><label for=\"sk-estimator-id-16\" class=\"sk-toggleable__label sk-toggleable__label-arrow\">DecisionTreeClassifier</label><div class=\"sk-toggleable__content\"><pre>DecisionTreeClassifier(random_state=42)</pre></div></div></div></div></div></div></div>"
      ],
      "text/plain": [
       "Pipeline(steps=[('ohe',\n",
       "                 ColumnTransformer(remainder='passthrough',\n",
       "                                   transformers=[('ohe',\n",
       "                                                  OneHotEncoder(handle_unknown='ignore'),\n",
       "                                                  [0])])),\n",
       "                ('sm', SMOTE(random_state=42)),\n",
       "                ('tree', DecisionTreeClassifier(random_state=42))])"
      ]
     },
     "execution_count": 47,
     "metadata": {},
     "output_type": "execute_result"
    },
    {
     "name": "stdout",
     "output_type": "stream",
     "text": [
      "time: 100 ms (started: 2024-02-29 13:27:28 -05:00)\n"
     ]
    }
   ],
   "source": [
    "# Fitting model to training data\n",
    "dec_tree_model = dec_tree_pipe.fit(X_train, y_train)\n",
    "dec_tree_model"
   ]
  },
  {
   "cell_type": "code",
   "execution_count": 48,
   "id": "cea38886",
   "metadata": {},
   "outputs": [
    {
     "name": "stdout",
     "output_type": "stream",
     "text": [
      "Score on training data:  1.0\n",
      "time: 4.19 ms (started: 2024-02-29 13:27:28 -05:00)\n"
     ]
    }
   ],
   "source": [
    "# Scoring model on training data\n",
    "print('Score on training data: ', dec_tree_model.score(X_train, y_train))"
   ]
  },
  {
   "cell_type": "markdown",
   "id": "0d5737b0",
   "metadata": {},
   "source": [
    "### Red flag!\n",
    "\n",
    "A perfect score on the training data indicates that the model is very likely overfitting, picking up noise in the training set that will not generalize well to unseen data. Let's confirm this assumption below."
   ]
  },
  {
   "cell_type": "code",
   "execution_count": 49,
   "id": "139588f6",
   "metadata": {},
   "outputs": [
    {
     "name": "stdout",
     "output_type": "stream",
     "text": [
      "time: 11.7 ms (started: 2024-02-29 13:27:29 -05:00)\n"
     ]
    }
   ],
   "source": [
    "# Getting predictions on test set\n",
    "dec_tree_y_pred = dec_tree_model.predict(X_test)"
   ]
  },
  {
   "cell_type": "code",
   "execution_count": 50,
   "id": "b52bda39",
   "metadata": {},
   "outputs": [
    {
     "name": "stdout",
     "output_type": "stream",
     "text": [
      "              precision    recall  f1-score   support\n",
      "\n",
      "           0       0.96      0.93      0.94       709\n",
      "           1       0.66      0.78      0.72       125\n",
      "\n",
      "    accuracy                           0.91       834\n",
      "   macro avg       0.81      0.86      0.83       834\n",
      "weighted avg       0.92      0.91      0.91       834\n",
      "\n",
      "time: 9.32 ms (started: 2024-02-29 13:27:29 -05:00)\n"
     ]
    }
   ],
   "source": [
    "# Printing various metrics on test data\n",
    "print(classification_report(y_test, dec_tree_y_pred))"
   ]
  },
  {
   "cell_type": "markdown",
   "id": "8430283a",
   "metadata": {},
   "source": [
    "As expected, we do see some overfitting going on, although the model actually performs quite well on the test set overall. We see an f1 score of 91% which is excellent, as well as a vastly improved recall for both positive and negative cases. Our recall for the positive case continues to be a problem, and we can see that predictions on the positive case are consistently far lower than on the negative case. For our next model, we will try to solve this by applying an ensemble method.\n",
    "\n",
    "Ensemble methods such as random forests might be able to help us reduce overfitting and create further improvements to our accuracy and recall scores, as they often outperform simple decision trees. They also usually will be better suited to handle noise in the data and datasets with many features. Let's build one below."
   ]
  },
  {
   "cell_type": "markdown",
   "id": "d493162e",
   "metadata": {},
   "source": [
    "## Random Forest"
   ]
  },
  {
   "cell_type": "markdown",
   "id": "153adbb8",
   "metadata": {},
   "source": [
    "Our final base model will be an ensemble method that makes use of many decision trees, employing a voting system for making predictions on each data point. Just like before, we won't need scaling steps here, only preprocessing for our categorical \"state\" column."
   ]
  },
  {
   "cell_type": "code",
   "execution_count": 51,
   "id": "f811de5a",
   "metadata": {},
   "outputs": [
    {
     "name": "stdout",
     "output_type": "stream",
     "text": [
      "time: 785 µs (started: 2024-02-29 13:27:29 -05:00)\n"
     ]
    }
   ],
   "source": [
    "# Creating random forest pipeline\n",
    "random_forest_pipe = ImPipeline(steps=[('ohe', dec_tree_preprocessor), # One-hot encoding\n",
    "                                  ('sm', SMOTE(random_state=42)), # Resampling\n",
    "                                  ('tree', RandomForestClassifier(random_state=42))]) # Fits random forest"
   ]
  },
  {
   "cell_type": "code",
   "execution_count": 52,
   "id": "517f2966",
   "metadata": {},
   "outputs": [
    {
     "name": "stdout",
     "output_type": "stream",
     "text": [
      "time: 590 ms (started: 2024-02-29 13:27:29 -05:00)\n"
     ]
    }
   ],
   "source": [
    "# Fitting to training data\n",
    "random_forest_model = random_forest_pipe.fit(X_train, y_train)"
   ]
  },
  {
   "cell_type": "markdown",
   "id": "2b7f84e0",
   "metadata": {},
   "source": [
    "Notice the time stamp for the cell above. We can see as I fit this model that it takes more than 5 times as long to fit as our normal decision tree and about 50 times as long as our logistic regression! This is due to the model's complexity; it has to run many decision trees in parallel, then aggregating assessments and voting on what the right answer should be."
   ]
  },
  {
   "cell_type": "code",
   "execution_count": 53,
   "id": "25527101",
   "metadata": {},
   "outputs": [
    {
     "name": "stdout",
     "output_type": "stream",
     "text": [
      "Score on training data: 1.0\n",
      "time: 23.9 ms (started: 2024-02-29 13:27:30 -05:00)\n"
     ]
    }
   ],
   "source": [
    "# Scoring model on training data\n",
    "print('Score on training data:', random_forest_model.score(X_train, y_train))"
   ]
  },
  {
   "cell_type": "markdown",
   "id": "6e533b18",
   "metadata": {},
   "source": [
    "Again we see a perfect score on the training data. This indicates another instance of overfitting. This time around, however, we should see a smaller disparity between the training and test data."
   ]
  },
  {
   "cell_type": "code",
   "execution_count": 54,
   "id": "c0876ce1",
   "metadata": {},
   "outputs": [
    {
     "name": "stdout",
     "output_type": "stream",
     "text": [
      "time: 10.9 ms (started: 2024-02-29 13:27:30 -05:00)\n"
     ]
    }
   ],
   "source": [
    "# Getting predictions on test set\n",
    "random_forest_y_pred = random_forest_model.predict(X_test)"
   ]
  },
  {
   "cell_type": "code",
   "execution_count": 55,
   "id": "21e24d2b",
   "metadata": {},
   "outputs": [
    {
     "name": "stdout",
     "output_type": "stream",
     "text": [
      "              precision    recall  f1-score   support\n",
      "\n",
      "           0       0.95      0.97      0.96       709\n",
      "           1       0.83      0.70      0.76       125\n",
      "\n",
      "    accuracy                           0.93       834\n",
      "   macro avg       0.89      0.84      0.86       834\n",
      "weighted avg       0.93      0.93      0.93       834\n",
      "\n",
      "time: 4.96 ms (started: 2024-02-29 13:27:30 -05:00)\n"
     ]
    }
   ],
   "source": [
    "# Printing various metrics on test data\n",
    "print(classification_report(y_test, random_forest_y_pred))"
   ]
  },
  {
   "cell_type": "markdown",
   "id": "c0560bf2",
   "metadata": {},
   "source": [
    "We see the precision and recall scores on the report, but we can visualize this further by creating a confusion matrix, which will show us exactly how many predictions the model is getting right and wrong (and where):"
   ]
  },
  {
   "cell_type": "code",
   "execution_count": 56,
   "id": "f8f11354",
   "metadata": {},
   "outputs": [
    {
     "name": "stdout",
     "output_type": "stream",
     "text": [
      "time: 4.17 ms (started: 2024-02-29 13:27:31 -05:00)\n"
     ]
    }
   ],
   "source": [
    "# Making confusion matrix\n",
    "random_forest_cm = confusion_matrix(y_test, random_forest_y_pred)"
   ]
  },
  {
   "cell_type": "code",
   "execution_count": 57,
   "id": "9e886c6d",
   "metadata": {},
   "outputs": [
    {
     "data": {
      "text/plain": [
       "<Figure size 800x600 with 0 Axes>"
      ]
     },
     "metadata": {},
     "output_type": "display_data"
    },
    {
     "data": {
      "image/png": "[encoded data removed]",
      "text/plain": [
       "<Figure size 640x480 with 2 Axes>"
      ]
     },
     "metadata": {},
     "output_type": "display_data"
    },
    {
     "name": "stdout",
     "output_type": "stream",
     "text": [
      "time: 79.1 ms (started: 2024-02-29 13:27:31 -05:00)\n"
     ]
    }
   ],
   "source": [
    "# Displaying confusion matrix\n",
    "rf = random_forest_pipe.named_steps['tree']\n",
    "cm_display = ConfusionMatrixDisplay(confusion_matrix=random_forest_cm, display_labels=rf.classes_)\n",
    "\n",
    "plt.figure(figsize=(8, 6))\n",
    "cm_display.plot(cmap='coolwarm', xticks_rotation='horizontal')\n",
    "plt.title(\"Confusion Matrix\")\n",
    "plt.show()"
   ]
  },
  {
   "cell_type": "markdown",
   "id": "c0200dff",
   "metadata": {},
   "source": [
    "This gives us a better sense of how the model is performing on a more granular level. We see 37 false negatives, which means that our model is predicting that a small percentage of people will not switch providers when they actually do. On the other side, we see 18 false positives, meaning that the model predicts some people will churn when they actually won't. Overall, though, we see that the model performs well on predictions. However, that bottom row shows us where we need to make improvements, as the model is incorrectly predicting that a fair ratio of people will stay when they actually are leaving."
   ]
  },
  {
   "cell_type": "markdown",
   "id": "ac83fd4d",
   "metadata": {},
   "source": [
    "Before we move onto tuning, we can also take a look at the depth of each tree in our model. This will tell us how far down our tree is splitting, which could inform how we tweak the hyperparameters if we tune it."
   ]
  },
  {
   "cell_type": "code",
   "execution_count": 58,
   "id": "58a224ce",
   "metadata": {},
   "outputs": [
    {
     "name": "stdout",
     "output_type": "stream",
     "text": [
      "Depth of tree 1 : 20\n",
      "Depth of tree 2 : 30\n",
      "Depth of tree 3 : 25\n",
      "Depth of tree 4 : 23\n",
      "Depth of tree 5 : 23\n",
      "Depth of tree 6 : 24\n",
      "Depth of tree 7 : 32\n",
      "Depth of tree 8 : 26\n",
      "Depth of tree 9 : 23\n",
      "Depth of tree 10 : 25\n",
      "Depth of tree 11 : 29\n",
      "Depth of tree 12 : 24\n",
      "Depth of tree 13 : 34\n",
      "Depth of tree 14 : 29\n",
      "Depth of tree 15 : 30\n",
      "Depth of tree 16 : 23\n",
      "Depth of tree 17 : 29\n",
      "Depth of tree 18 : 26\n",
      "Depth of tree 19 : 31\n",
      "Depth of tree 20 : 27\n",
      "Depth of tree 21 : 25\n",
      "Depth of tree 22 : 25\n",
      "Depth of tree 23 : 27\n",
      "Depth of tree 24 : 23\n",
      "Depth of tree 25 : 33\n",
      "Depth of tree 26 : 25\n",
      "Depth of tree 27 : 27\n",
      "Depth of tree 28 : 25\n",
      "Depth of tree 29 : 32\n",
      "Depth of tree 30 : 29\n",
      "Depth of tree 31 : 26\n",
      "Depth of tree 32 : 25\n",
      "Depth of tree 33 : 24\n",
      "Depth of tree 34 : 24\n",
      "Depth of tree 35 : 22\n",
      "Depth of tree 36 : 24\n",
      "Depth of tree 37 : 28\n",
      "Depth of tree 38 : 24\n",
      "Depth of tree 39 : 27\n",
      "Depth of tree 40 : 24\n",
      "Depth of tree 41 : 22\n",
      "Depth of tree 42 : 28\n",
      "Depth of tree 43 : 26\n",
      "Depth of tree 44 : 26\n",
      "Depth of tree 45 : 28\n",
      "Depth of tree 46 : 36\n",
      "Depth of tree 47 : 25\n",
      "Depth of tree 48 : 24\n",
      "Depth of tree 49 : 31\n",
      "Depth of tree 50 : 28\n",
      "Depth of tree 51 : 33\n",
      "Depth of tree 52 : 25\n",
      "Depth of tree 53 : 30\n",
      "Depth of tree 54 : 24\n",
      "Depth of tree 55 : 29\n",
      "Depth of tree 56 : 25\n",
      "Depth of tree 57 : 21\n",
      "Depth of tree 58 : 21\n",
      "Depth of tree 59 : 24\n",
      "Depth of tree 60 : 25\n",
      "Depth of tree 61 : 24\n",
      "Depth of tree 62 : 24\n",
      "Depth of tree 63 : 26\n",
      "Depth of tree 64 : 25\n",
      "Depth of tree 65 : 27\n",
      "Depth of tree 66 : 29\n",
      "Depth of tree 67 : 26\n",
      "Depth of tree 68 : 29\n",
      "Depth of tree 69 : 28\n",
      "Depth of tree 70 : 24\n",
      "Depth of tree 71 : 27\n",
      "Depth of tree 72 : 23\n",
      "Depth of tree 73 : 26\n",
      "Depth of tree 74 : 23\n",
      "Depth of tree 75 : 30\n",
      "Depth of tree 76 : 24\n",
      "Depth of tree 77 : 27\n",
      "Depth of tree 78 : 23\n",
      "Depth of tree 79 : 25\n",
      "Depth of tree 80 : 22\n",
      "Depth of tree 81 : 27\n",
      "Depth of tree 82 : 36\n",
      "Depth of tree 83 : 23\n",
      "Depth of tree 84 : 28\n",
      "Depth of tree 85 : 26\n",
      "Depth of tree 86 : 21\n",
      "Depth of tree 87 : 24\n",
      "Depth of tree 88 : 26\n",
      "Depth of tree 89 : 29\n",
      "Depth of tree 90 : 26\n",
      "Depth of tree 91 : 24\n",
      "Depth of tree 92 : 26\n",
      "Depth of tree 93 : 19\n",
      "Depth of tree 94 : 28\n",
      "Depth of tree 95 : 33\n",
      "Depth of tree 96 : 24\n",
      "Depth of tree 97 : 37\n",
      "Depth of tree 98 : 23\n",
      "Depth of tree 99 : 30\n",
      "Depth of tree 100 : 23\n",
      "Average Tree Depth:  23.0\n",
      "time: 4.61 ms (started: 2024-02-29 13:27:32 -05:00)\n"
     ]
    }
   ],
   "source": [
    "rf_tree = random_forest_pipe.named_steps['tree']\n",
    "\n",
    "for x, estimator in enumerate(rf_tree.estimators_):\n",
    "    depth = estimator.tree_.max_depth\n",
    "    depths = []\n",
    "    print(\"Depth of tree\", x + 1, \":\", depth)\n",
    "    depths.append(depth)\n",
    "    \n",
    "print('Average Tree Depth: ', sum(depths)/len(depths))"
   ]
  },
  {
   "cell_type": "markdown",
   "id": "2e8d4091",
   "metadata": {},
   "source": [
    "Over 100 iterations, our average depth is 23. During the fine-tuning process, we can tinker with this number to see what becomes the optimal value for our target performance metrics.\n",
    "\n",
    "Below, we will select a model to tune. We will then try and find optimal hyperparameters that can deliver us any more small increases in performance."
   ]
  },
  {
   "cell_type": "markdown",
   "id": "28244ccb",
   "metadata": {},
   "source": [
    "# Final Model"
   ]
  },
  {
   "cell_type": "markdown",
   "id": "3ed8d2ed",
   "metadata": {},
   "source": [
    "Our final model will be a tuned version of the random forest method we just ran. The tuning process will consist of changes iterated over several sets of hyperparameter categories. GridSearchCV will run these iterations, finding the specific set of hyperparameters that lead to optimal performance for a given scoring metric. I will be optimizing for recall since that is the most important metric for stakeholders in this particular case and because it seems we are already achieving an excellent accuracy score."
   ]
  },
  {
   "cell_type": "markdown",
   "id": "44766ece",
   "metadata": {},
   "source": [
    "## Tuning"
   ]
  },
  {
   "cell_type": "markdown",
   "id": "2e64c1ed",
   "metadata": {},
   "source": [
    "The grid below consists of ranges for four hyperparameters. First, we set the number of estimators, or how many trees we want to be in the forest. Next, we have our max tree depth, which we took a peek at above. Since the average is 26.28, I have tried to concentrate my parameters around that to see if we can find a more optimal number.\n",
    "\n",
    "Next up is the minimal samples split, or the minimum number of samples required to split a node. I am casting a wide net with the hyperparameter values here. Finally, we have min_samples_leaf, or the minimal number of samples required to be in a leaf node. I think I want to keep the values low for this one, so I am running one through five.\n",
    "\n",
    "For my grid search, I will be running my random forest model from above, cross-validating with five folds, and using all my available CPU cores (12) to run multiple models at once. This should significantly decrease fitting time."
   ]
  },
  {
   "cell_type": "code",
   "execution_count": 59,
   "id": "619b355f",
   "metadata": {},
   "outputs": [
    {
     "name": "stdout",
     "output_type": "stream",
     "text": [
      "time: 7min 32s (started: 2024-02-29 13:27:34 -05:00)\n"
     ]
    }
   ],
   "source": [
    "# Creating hyperparameter grid\n",
    "param_grid = {\n",
    "    'tree__n_estimators': [100, 150, 200, 250, 300],\n",
    "    'tree__max_depth': [None, 10, 15, 18, 20, 22, 25, 27, 30],\n",
    "    'tree__min_samples_split': [2, 5, 8, 10, 12],\n",
    "    'tree__min_samples_leaf': [1, 2, 3, 4, 5]\n",
    "}\n",
    "\n",
    "\n",
    "# Setting up grid search\n",
    "grid_search = GridSearchCV(random_forest_pipe, param_grid, cv=5, scoring='recall', n_jobs=12)\n",
    "\n",
    "# Fitting grid search\n",
    "grid_search_model = grid_search.fit(X_train, y_train)"
   ]
  },
  {
   "cell_type": "markdown",
   "id": "2db674e6",
   "metadata": {},
   "source": [
    "Done! This search took seven and a half minutes to run, which makes sense given the amount of calculations it had to do for every combination of hyperparameters. (It took far longer before I realized I could use multiple cores). \n",
    "\n",
    "Now that we have the best fit, we can take a look at what hyperparameters the model recommends:"
   ]
  },
  {
   "cell_type": "code",
   "execution_count": 60,
   "id": "da2dbd59",
   "metadata": {},
   "outputs": [
    {
     "name": "stdout",
     "output_type": "stream",
     "text": [
      "Best Hyperparameters:  {'tree__max_depth': 20, 'tree__min_samples_leaf': 1, 'tree__min_samples_split': 12, 'tree__n_estimators': 250}\n",
      "time: 492 µs (started: 2024-02-29 13:35:06 -05:00)\n"
     ]
    }
   ],
   "source": [
    "print('Best Hyperparameters: ', grid_search.best_params_)"
   ]
  },
  {
   "cell_type": "markdown",
   "id": "25a08159",
   "metadata": {},
   "source": [
    "So, the optimal model based on these inputs has:\n",
    "- A max tree depth of 20\n",
    "- A one-sample minimum for leaf nodes\n",
    "- A minimum sample of 12 for a split\n",
    "- 250 decision trees voting"
   ]
  },
  {
   "cell_type": "markdown",
   "id": "a4c87ceb",
   "metadata": {},
   "source": [
    "Now, we can just enter those hyperparameters into our original pipeline and fit the model again!"
   ]
  },
  {
   "cell_type": "code",
   "execution_count": 61,
   "id": "e76b6124",
   "metadata": {},
   "outputs": [
    {
     "name": "stdout",
     "output_type": "stream",
     "text": [
      "time: 439 µs (started: 2024-02-29 13:35:06 -05:00)\n"
     ]
    }
   ],
   "source": [
    "# Creating final pipeline with optimized hyperparameters\n",
    "tuned_rf_pipe = random_forest_pipe = ImPipeline(steps=[('ohe', dec_tree_preprocessor), # One-hot encoder\n",
    "                                  ('sm', SMOTE(random_state=42)), # Resampling\n",
    "                                  ('final_tree', RandomForestClassifier(max_depth=20, min_samples_leaf=1,\n",
    "                                                                min_samples_split=12,\n",
    "                                                                n_estimators=250, \n",
    "                                                                random_state=42))]) # Fits random forest"
   ]
  },
  {
   "cell_type": "code",
   "execution_count": 62,
   "id": "69d80f3a",
   "metadata": {},
   "outputs": [
    {
     "name": "stdout",
     "output_type": "stream",
     "text": [
      "Score on training data:  0.9843937575030012\n",
      "\n",
      "\n",
      "              precision    recall  f1-score   support\n",
      "\n",
      "           0       0.96      0.96      0.96       709\n",
      "           1       0.79      0.74      0.77       125\n",
      "\n",
      "    accuracy                           0.93       834\n",
      "   macro avg       0.87      0.85      0.86       834\n",
      "weighted avg       0.93      0.93      0.93       834\n",
      "\n",
      "time: 1.39 s (started: 2024-02-29 13:35:06 -05:00)\n"
     ]
    }
   ],
   "source": [
    "# Fitting model\n",
    "final_model = tuned_rf_pipe.fit(X_train, y_train)\n",
    "\n",
    "#Getting training score\n",
    "print('Score on training data: ', final_model.score(X_train, y_train))\n",
    "\n",
    "# Getting predictions on test set\n",
    "final_model_y_preds = final_model.predict(X_test)\n",
    "\n",
    "print('')\n",
    "print('')\n",
    "# Printing classification report\n",
    "print(classification_report(y_test, final_model_y_preds))"
   ]
  },
  {
   "cell_type": "markdown",
   "id": "77ca6a32",
   "metadata": {},
   "source": [
    "Looks like we managed to further improve our overall performance! Let's compare it with our base random forest model results below."
   ]
  },
  {
   "cell_type": "markdown",
   "id": "cfd9c26d",
   "metadata": {},
   "source": [
    "## Final Evaluation"
   ]
  },
  {
   "cell_type": "markdown",
   "id": "d80c941f",
   "metadata": {},
   "source": [
    "We know that our random forest had the highest performance of the three base models we tried. Let's print those results again:"
   ]
  },
  {
   "cell_type": "code",
   "execution_count": 63,
   "id": "4a2ab387",
   "metadata": {},
   "outputs": [
    {
     "name": "stdout",
     "output_type": "stream",
     "text": [
      "Score on training data: 1.0\n",
      "\n",
      "              precision    recall  f1-score   support\n",
      "\n",
      "           0       0.95      0.97      0.96       709\n",
      "           1       0.83      0.70      0.76       125\n",
      "\n",
      "    accuracy                           0.93       834\n",
      "   macro avg       0.89      0.84      0.86       834\n",
      "weighted avg       0.93      0.93      0.93       834\n",
      "\n",
      "time: 43.1 ms (started: 2024-02-29 13:35:26 -05:00)\n"
     ]
    }
   ],
   "source": [
    "# Priting classification metrics\n",
    "print('Score on training data:', random_forest_model.score(X_train, y_train))\n",
    "print('')\n",
    "print(classification_report(y_test, random_forest_y_pred))"
   ]
  },
  {
   "cell_type": "markdown",
   "id": "e00e8fb2",
   "metadata": {},
   "source": [
    "Now, let's compare that to the tuned version:"
   ]
  },
  {
   "cell_type": "code",
   "execution_count": 64,
   "id": "906a7301",
   "metadata": {},
   "outputs": [
    {
     "name": "stdout",
     "output_type": "stream",
     "text": [
      "Score on training data:  0.9843937575030012\n",
      "\n",
      "              precision    recall  f1-score   support\n",
      "\n",
      "           0       0.96      0.96      0.96       709\n",
      "           1       0.79      0.74      0.77       125\n",
      "\n",
      "    accuracy                           0.93       834\n",
      "   macro avg       0.87      0.85      0.86       834\n",
      "weighted avg       0.93      0.93      0.93       834\n",
      "\n",
      "time: 78.2 ms (started: 2024-02-29 13:35:26 -05:00)\n"
     ]
    }
   ],
   "source": [
    "# Printing classification metrics\n",
    "print('Score on training data: ', final_model.score(X_train, y_train))\n",
    "print('')\n",
    "print(classification_report(y_test, final_model_y_preds))"
   ]
  },
  {
   "cell_type": "markdown",
   "id": "187eeedf",
   "metadata": {},
   "source": [
    "We see incremental improvements in already-solid performance almost all the way across the board. We see marginal increases in our accuracy score, as well as improved recall for the positive case, which is what we were chasing and optimizing for. Precision and recall for the negative case remain stellar.\n",
    "\n",
    "Another notable improvement is that we managed to somewhat stem the overfitting issue we had with both our decision tree and our base random forest model. With our base model, we had a perfect score on the training data. Our accuracy on the test data was 93%. With the tuned model, we have reduced our performance on the training data to around 98%. With the same accuracy score, we have reduced the error between the training and test set. This indicates that our model has become less overfit to the training data and can still generalize just as well. Although I wish I could have improved recall a bit more, I am very pleased with this outcome."
   ]
  },
  {
   "cell_type": "markdown",
   "id": "b257d9a9",
   "metadata": {},
   "source": [
    "Let's plot another confusion matrix to better visualize the changes in the model compared to the last:"
   ]
  },
  {
   "cell_type": "code",
   "execution_count": 65,
   "id": "fb4c811d",
   "metadata": {},
   "outputs": [
    {
     "data": {
      "text/plain": [
       "<Figure size 800x600 with 0 Axes>"
      ]
     },
     "metadata": {},
     "output_type": "display_data"
    },
    {
     "data": {
      "image/png": "[encoded data removed]",
      "text/plain": [
       "<Figure size 640x480 with 2 Axes>"
      ]
     },
     "metadata": {},
     "output_type": "display_data"
    },
    {
     "name": "stdout",
     "output_type": "stream",
     "text": [
      "time: 79 ms (started: 2024-02-29 13:35:27 -05:00)\n"
     ]
    }
   ],
   "source": [
    "# Creating confusion matrix\n",
    "random_forest_cm = confusion_matrix(y_test, final_model_y_preds)\n",
    "\n",
    "# Displaying confusion matrix\n",
    "final_rf = random_forest_pipe.named_steps['final_tree']\n",
    "cm_display = ConfusionMatrixDisplay(confusion_matrix=random_forest_cm, display_labels=final_rf.classes_)\n",
    "\n",
    "plt.figure(figsize=(8, 6))\n",
    "cm_display.plot(cmap='coolwarm', xticks_rotation='horizontal')\n",
    "plt.title(\"Confusion Matrix\")\n",
    "plt.show()"
   ]
  },
  {
   "cell_type": "markdown",
   "id": "2439dfe0",
   "metadata": {},
   "source": [
    "We see in this confusion matrix a confirmation that we've slightly reduced the number of false negative predictions. Our original random forest had 5 more incorrect precitions there. We've slightly increased our rate of false positives, but that matters less in this context. This matrix shows that our model has indeed made some progress and improvement in the area we were focusing on."
   ]
  },
  {
   "cell_type": "markdown",
   "id": "33778a83",
   "metadata": {},
   "source": [
    "## Feature Importances"
   ]
  },
  {
   "cell_type": "markdown",
   "id": "4527f6a8",
   "metadata": {},
   "source": [
    "To better understand which features are the most important in our model's calculations, we can make a chart of our feature importances. Below, we can see all the features listed out, with each feature having a measure of importance to the outcome of a prediction."
   ]
  },
  {
   "cell_type": "code",
   "execution_count": 66,
   "id": "7dce6093",
   "metadata": {},
   "outputs": [
    {
     "data": {
      "image/png": "[encoded data removed]",
      "text/plain": [
       "<Figure size 1600x1600 with 1 Axes>"
      ]
     },
     "metadata": {},
     "output_type": "display_data"
    },
    {
     "name": "stdout",
     "output_type": "stream",
     "text": [
      "time: 416 ms (started: 2024-02-29 13:35:27 -05:00)\n"
     ]
    }
   ],
   "source": [
    "# Getting feature importances\n",
    "feature_importances = final_rf.feature_importances_\n",
    "\n",
    "# Getting feature names out of one-hot encoding step\n",
    "one_hot_encoder = tuned_rf_pipe.named_steps['ohe']\n",
    "encoded_feature_names = one_hot_encoder.get_feature_names_out()\n",
    "\n",
    "# \n",
    "feature_importances = tuned_rf_pipe.named_steps['final_tree'].feature_importances_\n",
    "\n",
    "importances_df = pd.DataFrame({\n",
    "    'Feature': encoded_feature_names,\n",
    "    'Importance': feature_importances\n",
    "})\n",
    "\n",
    "importances = importances_df.sort_values('Importance', ascending=False)\n",
    "\n",
    "plt.figure(figsize=(16, 16))\n",
    "plt.barh(importances_df['Feature'], importances_df['Importance'], color='skyblue')\n",
    "plt.xlabel('Importance')\n",
    "plt.ylabel('Feature')\n",
    "plt.title('Feature Importances')\n",
    "plt.gca().invert_yaxis()\n",
    "plt.show()"
   ]
  },
  {
   "cell_type": "markdown",
   "id": "3c4d6617",
   "metadata": {},
   "source": [
    "So, as we can see, there are a lot of features to go over since we one-hot encoded state, which added 50 coumns to the dataset. The two standout features are the possession of an international plan and the number of customer service calls made. This shouldn't be surprising if we look back at our correlation heatmap, as those features were the most correlated with churn. We can also see that total day minutes and charges play a large role in determining churn. We take a fairly steep drop below that, with voice mail plan contributing a little along with evening and international call charges.\n",
    "\n",
    "Another cool find is that the feature importance for states doesn't always mimic the churn rate map we plotted at the beginning of the project! If we look closely, we can see that some high-rate states like Texas have a proportionally larger importance, but we also see lower-rate staes like Arizona and Nevada having higher importance than their churn rate would suggest.\n",
    "\n",
    "Here's a better look at the top 10 importances:"
   ]
  },
  {
   "cell_type": "code",
   "execution_count": 67,
   "id": "65a301d3",
   "metadata": {},
   "outputs": [
    {
     "data": {
      "text/html": [
       "<div>\n",
       "<style scoped>\n",
       "    .dataframe tbody tr th:only-of-type {\n",
       "        vertical-align: middle;\n",
       "    }\n",
       "\n",
       "    .dataframe tbody tr th {\n",
       "        vertical-align: top;\n",
       "    }\n",
       "\n",
       "    .dataframe thead th {\n",
       "        text-align: right;\n",
       "    }\n",
       "</style>\n",
       "<table border=\"1\" class=\"dataframe\">\n",
       "  <thead>\n",
       "    <tr style=\"text-align: right;\">\n",
       "      <th></th>\n",
       "      <th>Feature</th>\n",
       "      <th>Importance</th>\n",
       "    </tr>\n",
       "  </thead>\n",
       "  <tbody>\n",
       "    <tr>\n",
       "      <th>53</th>\n",
       "      <td>remainder__international plan</td>\n",
       "      <td>0.157340</td>\n",
       "    </tr>\n",
       "    <tr>\n",
       "      <th>68</th>\n",
       "      <td>remainder__customer service calls</td>\n",
       "      <td>0.135446</td>\n",
       "    </tr>\n",
       "    <tr>\n",
       "      <th>56</th>\n",
       "      <td>remainder__total day minutes</td>\n",
       "      <td>0.101521</td>\n",
       "    </tr>\n",
       "    <tr>\n",
       "      <th>58</th>\n",
       "      <td>remainder__total day charge</td>\n",
       "      <td>0.099701</td>\n",
       "    </tr>\n",
       "    <tr>\n",
       "      <th>54</th>\n",
       "      <td>remainder__voice mail plan</td>\n",
       "      <td>0.051626</td>\n",
       "    </tr>\n",
       "    <tr>\n",
       "      <th>61</th>\n",
       "      <td>remainder__total eve charge</td>\n",
       "      <td>0.041328</td>\n",
       "    </tr>\n",
       "    <tr>\n",
       "      <th>66</th>\n",
       "      <td>remainder__total intl calls</td>\n",
       "      <td>0.038402</td>\n",
       "    </tr>\n",
       "    <tr>\n",
       "      <th>52</th>\n",
       "      <td>remainder__area code</td>\n",
       "      <td>0.037590</td>\n",
       "    </tr>\n",
       "    <tr>\n",
       "      <th>59</th>\n",
       "      <td>remainder__total eve minutes</td>\n",
       "      <td>0.036724</td>\n",
       "    </tr>\n",
       "    <tr>\n",
       "      <th>55</th>\n",
       "      <td>remainder__number vmail messages</td>\n",
       "      <td>0.032870</td>\n",
       "    </tr>\n",
       "  </tbody>\n",
       "</table>\n",
       "</div>"
      ],
      "text/plain": [
       "                              Feature  Importance\n",
       "53      remainder__international plan    0.157340\n",
       "68  remainder__customer service calls    0.135446\n",
       "56       remainder__total day minutes    0.101521\n",
       "58        remainder__total day charge    0.099701\n",
       "54         remainder__voice mail plan    0.051626\n",
       "61        remainder__total eve charge    0.041328\n",
       "66        remainder__total intl calls    0.038402\n",
       "52               remainder__area code    0.037590\n",
       "59       remainder__total eve minutes    0.036724\n",
       "55   remainder__number vmail messages    0.032870"
      ]
     },
     "execution_count": 67,
     "metadata": {},
     "output_type": "execute_result"
    },
    {
     "name": "stdout",
     "output_type": "stream",
     "text": [
      "time: 2.11 ms (started: 2024-02-29 13:35:28 -05:00)\n"
     ]
    }
   ],
   "source": [
    "importances.head(10)"
   ]
  },
  {
   "cell_type": "markdown",
   "id": "1e708412",
   "metadata": {},
   "source": [
    "# Conclusions"
   ]
  },
  {
   "cell_type": "markdown",
   "id": "8d13083f",
   "metadata": {},
   "source": [
    "Our iterative modeling process has yielded a final classifier that is effective at predicting customer churn. With an accuracy score of 93%, we know that our predictions will be pretty reliable. We also have achieved excellent recall on the negative case. While the recall for the positive case is lagging behind, our model has proven that the class bias can be improved with fine-tuning. Based on this model, its feature importances, and predictions, our recommendations would be:\n",
    "\n",
    "- #### Flag customers with accounts that match key features:\n",
    "    - Above-average number of customer service calls\n",
    "    - High international minutes\n",
    "    - High day minutes\n",
    "    \n",
    "- #### Offer special promotions to flagged accounts, especially ones with multiple customer service calls or high international minutes\n",
    "\n",
    "- #### Consider changing day rates for high-churn states\n",
    "\n",
    "The core strategy of these recommendations uses our model to identify accounts that are at a high risk for churn. These customers could be ones who have made an above-average number of customer service calls, or simply ones who are paying high bills for day or international usage. Once those accounts are identified, high-risk customers can be targeted with special rate packages, free minutes, upgrades, or other promotions that make continued loyalty more attractive than switching plans. Timely identification of high-risk accounts using the patterns identified by our model should open the door for a significant increase in customer retention and satisfaction."
   ]
  },
  {
   "cell_type": "markdown",
   "id": "5079018a",
   "metadata": {},
   "source": [
    "## Next Steps"
   ]
  },
  {
   "cell_type": "markdown",
   "id": "97f59fb0",
   "metadata": {},
   "source": [
    "While our model is performing well, it could be improved. First and foremost, another step would be to expand the dataset. More features and more rows of customer information would likely improve performance even further, since we were able to achieve 93% accuracy with only around 3300 rows of data. Further analysis could include:\n",
    "\n",
    "- In-depth geographical breakdowns of churn\n",
    "- Time-of-year analysis\n",
    "- Content analysis of customer service calls"
   ]
  },
  {
   "cell_type": "markdown",
   "id": "ffdf0843",
   "metadata": {},
   "source": [
    "## Contact Information"
   ]
  },
  {
   "cell_type": "markdown",
   "id": "7446a9da",
   "metadata": {},
   "source": [
    "- Email: apell7591@gmail.com\n",
    "- Phone: 917-434-6615\n",
    "- GitHub: [apell7594](https://github.com/apell74)\n",
    "- LinkedIn: [Adam Pell](www.linkedin.com/in/adam-pell-911868154)"
   ]
  }
 ],
 "metadata": {
  "kernelspec": {
   "display_name": "Python 3 (ipykernel)",
   "language": "python",
   "name": "python3"
  },
  "language_info": {
   "codemirror_mode": {
    "name": "ipython",
    "version": 3
   },
   "file_extension": ".py",
   "mimetype": "text/x-python",
   "name": "python",
   "nbconvert_exporter": "python",
   "pygments_lexer": "ipython3",
   "version": "3.9.13"
  }
 },
 "nbformat": 4,
 "nbformat_minor": 5
}
